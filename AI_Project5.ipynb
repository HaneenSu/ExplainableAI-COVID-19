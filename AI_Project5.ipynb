{
  "nbformat": 4,
  "nbformat_minor": 0,
  "metadata": {
    "colab": {
      "name": "AI-Project5.ipynb",
      "provenance": [],
      "collapsed_sections": [],
      "toc_visible": true
    },
    "kernelspec": {
      "name": "python3",
      "display_name": "Python 3"
    },
    "accelerator": "GPU",
    "widgets": {
      "application/vnd.jupyter.widget-state+json": {
        "343700c90e0a42999c9ca356d59c8e66": {
          "model_module": "@jupyter-widgets/controls",
          "model_name": "HBoxModel",
          "state": {
            "_view_name": "HBoxView",
            "_dom_classes": [],
            "_model_name": "HBoxModel",
            "_view_module": "@jupyter-widgets/controls",
            "_model_module_version": "1.5.0",
            "_view_count": null,
            "_view_module_version": "1.5.0",
            "box_style": "",
            "layout": "IPY_MODEL_58ee8a0065e04bc6b376a4d1f2e9ce3c",
            "_model_module": "@jupyter-widgets/controls",
            "children": [
              "IPY_MODEL_ba3e72b8bab1410d9c58aca8f691d509",
              "IPY_MODEL_1d41c169fa254535876969550b04b947"
            ]
          }
        },
        "58ee8a0065e04bc6b376a4d1f2e9ce3c": {
          "model_module": "@jupyter-widgets/base",
          "model_name": "LayoutModel",
          "state": {
            "_view_name": "LayoutView",
            "grid_template_rows": null,
            "right": null,
            "justify_content": null,
            "_view_module": "@jupyter-widgets/base",
            "overflow": null,
            "_model_module_version": "1.2.0",
            "_view_count": null,
            "flex_flow": null,
            "width": null,
            "min_width": null,
            "border": null,
            "align_items": null,
            "bottom": null,
            "_model_module": "@jupyter-widgets/base",
            "top": null,
            "grid_column": null,
            "overflow_y": null,
            "overflow_x": null,
            "grid_auto_flow": null,
            "grid_area": null,
            "grid_template_columns": null,
            "flex": null,
            "_model_name": "LayoutModel",
            "justify_items": null,
            "grid_row": null,
            "max_height": null,
            "align_content": null,
            "visibility": null,
            "align_self": null,
            "height": null,
            "min_height": null,
            "padding": null,
            "grid_auto_rows": null,
            "grid_gap": null,
            "max_width": null,
            "order": null,
            "_view_module_version": "1.2.0",
            "grid_template_areas": null,
            "object_position": null,
            "object_fit": null,
            "grid_auto_columns": null,
            "margin": null,
            "display": null,
            "left": null
          }
        },
        "ba3e72b8bab1410d9c58aca8f691d509": {
          "model_module": "@jupyter-widgets/controls",
          "model_name": "IntProgressModel",
          "state": {
            "_view_name": "ProgressView",
            "style": "IPY_MODEL_f28fc999816f4a25945b6b69fd70cecb",
            "_dom_classes": [],
            "description": "100%",
            "_model_name": "IntProgressModel",
            "bar_style": "success",
            "max": 4000,
            "_view_module": "@jupyter-widgets/controls",
            "_model_module_version": "1.5.0",
            "value": 4000,
            "_view_count": null,
            "_view_module_version": "1.5.0",
            "orientation": "horizontal",
            "min": 0,
            "description_tooltip": null,
            "_model_module": "@jupyter-widgets/controls",
            "layout": "IPY_MODEL_71db94bae1cc4ca491d19d9991ad317d"
          }
        },
        "1d41c169fa254535876969550b04b947": {
          "model_module": "@jupyter-widgets/controls",
          "model_name": "HTMLModel",
          "state": {
            "_view_name": "HTMLView",
            "style": "IPY_MODEL_fe2b4e63bdc6417bba80d1232f0ae3e1",
            "_dom_classes": [],
            "description": "",
            "_model_name": "HTMLModel",
            "placeholder": "​",
            "_view_module": "@jupyter-widgets/controls",
            "_model_module_version": "1.5.0",
            "value": " 4000/4000 [02:45&lt;00:00, 24.23it/s]",
            "_view_count": null,
            "_view_module_version": "1.5.0",
            "description_tooltip": null,
            "_model_module": "@jupyter-widgets/controls",
            "layout": "IPY_MODEL_447d2b604a074bfe8f0251274810897b"
          }
        },
        "f28fc999816f4a25945b6b69fd70cecb": {
          "model_module": "@jupyter-widgets/controls",
          "model_name": "ProgressStyleModel",
          "state": {
            "_view_name": "StyleView",
            "_model_name": "ProgressStyleModel",
            "description_width": "initial",
            "_view_module": "@jupyter-widgets/base",
            "_model_module_version": "1.5.0",
            "_view_count": null,
            "_view_module_version": "1.2.0",
            "bar_color": null,
            "_model_module": "@jupyter-widgets/controls"
          }
        },
        "71db94bae1cc4ca491d19d9991ad317d": {
          "model_module": "@jupyter-widgets/base",
          "model_name": "LayoutModel",
          "state": {
            "_view_name": "LayoutView",
            "grid_template_rows": null,
            "right": null,
            "justify_content": null,
            "_view_module": "@jupyter-widgets/base",
            "overflow": null,
            "_model_module_version": "1.2.0",
            "_view_count": null,
            "flex_flow": null,
            "width": null,
            "min_width": null,
            "border": null,
            "align_items": null,
            "bottom": null,
            "_model_module": "@jupyter-widgets/base",
            "top": null,
            "grid_column": null,
            "overflow_y": null,
            "overflow_x": null,
            "grid_auto_flow": null,
            "grid_area": null,
            "grid_template_columns": null,
            "flex": null,
            "_model_name": "LayoutModel",
            "justify_items": null,
            "grid_row": null,
            "max_height": null,
            "align_content": null,
            "visibility": null,
            "align_self": null,
            "height": null,
            "min_height": null,
            "padding": null,
            "grid_auto_rows": null,
            "grid_gap": null,
            "max_width": null,
            "order": null,
            "_view_module_version": "1.2.0",
            "grid_template_areas": null,
            "object_position": null,
            "object_fit": null,
            "grid_auto_columns": null,
            "margin": null,
            "display": null,
            "left": null
          }
        },
        "fe2b4e63bdc6417bba80d1232f0ae3e1": {
          "model_module": "@jupyter-widgets/controls",
          "model_name": "DescriptionStyleModel",
          "state": {
            "_view_name": "StyleView",
            "_model_name": "DescriptionStyleModel",
            "description_width": "",
            "_view_module": "@jupyter-widgets/base",
            "_model_module_version": "1.5.0",
            "_view_count": null,
            "_view_module_version": "1.2.0",
            "_model_module": "@jupyter-widgets/controls"
          }
        },
        "447d2b604a074bfe8f0251274810897b": {
          "model_module": "@jupyter-widgets/base",
          "model_name": "LayoutModel",
          "state": {
            "_view_name": "LayoutView",
            "grid_template_rows": null,
            "right": null,
            "justify_content": null,
            "_view_module": "@jupyter-widgets/base",
            "overflow": null,
            "_model_module_version": "1.2.0",
            "_view_count": null,
            "flex_flow": null,
            "width": null,
            "min_width": null,
            "border": null,
            "align_items": null,
            "bottom": null,
            "_model_module": "@jupyter-widgets/base",
            "top": null,
            "grid_column": null,
            "overflow_y": null,
            "overflow_x": null,
            "grid_auto_flow": null,
            "grid_area": null,
            "grid_template_columns": null,
            "flex": null,
            "_model_name": "LayoutModel",
            "justify_items": null,
            "grid_row": null,
            "max_height": null,
            "align_content": null,
            "visibility": null,
            "align_self": null,
            "height": null,
            "min_height": null,
            "padding": null,
            "grid_auto_rows": null,
            "grid_gap": null,
            "max_width": null,
            "order": null,
            "_view_module_version": "1.2.0",
            "grid_template_areas": null,
            "object_position": null,
            "object_fit": null,
            "grid_auto_columns": null,
            "margin": null,
            "display": null,
            "left": null
          }
        }
      }
    }
  },
  "cells": [
    {
      "cell_type": "markdown",
      "metadata": {
        "id": "moUTi8pgItZo",
        "colab_type": "text"
      },
      "source": [
        "#**Proejct 5**\n",
        "# **COVID19 Detection from Xray and Explainability**\n",
        "\n",
        "Haneen Alsuradi \n",
        "\n",
        "Net ID: hha243\n",
        "\n",
        "\n",
        "\n"
      ]
    },
    {
      "cell_type": "markdown",
      "metadata": {
        "id": "7LyjVCjKucfQ",
        "colab_type": "text"
      },
      "source": [
        "# **1. Data Preparation**"
      ]
    },
    {
      "cell_type": "markdown",
      "metadata": {
        "id": "ALG4SXehJS_J",
        "colab_type": "text"
      },
      "source": [
        "The first step in approaching this project is to have the sources of your dataset. Here, I uploaded the 3 sources of datasets [MILA, Figure1, RSNA] data to my google drive. Then I will mount my drive to this page for an easy access to the images. Additionally, we upload the configuration file which has all the parameters and paths needed through the code."
      ]
    },
    {
      "cell_type": "markdown",
      "metadata": {
        "id": "5SWc1OzZQiHp",
        "colab_type": "text"
      },
      "source": [
        "**Mount Google Drive content which incldues the dataset from 3 different sources:**"
      ]
    },
    {
      "cell_type": "code",
      "metadata": {
        "id": "jHZeAd2fSXjd",
        "colab_type": "code",
        "colab": {
          "base_uri": "https://localhost:8080/",
          "height": 122
        },
        "outputId": "7710d31c-c944-47ff-a047-2327b64a5484"
      },
      "source": [
        "from google.colab import drive\n",
        "drive.mount('/content/gdrive/',force_remount=True)"
      ],
      "execution_count": null,
      "outputs": [
        {
          "output_type": "stream",
          "text": [
            "Go to this URL in a browser: https://accounts.google.com/o/oauth2/auth?client_id=947318989803-6bn6qk8qdgf4n4g3pfee6491hc0brc4i.apps.googleusercontent.com&redirect_uri=urn%3aietf%3awg%3aoauth%3a2.0%3aoob&response_type=code&scope=email%20https%3a%2f%2fwww.googleapis.com%2fauth%2fdocs.test%20https%3a%2f%2fwww.googleapis.com%2fauth%2fdrive%20https%3a%2f%2fwww.googleapis.com%2fauth%2fdrive.photos.readonly%20https%3a%2f%2fwww.googleapis.com%2fauth%2fpeopleapi.readonly\n",
            "\n",
            "Enter your authorization code:\n",
            "··········\n",
            "Mounted at /content/gdrive/\n"
          ],
          "name": "stdout"
        }
      ]
    },
    {
      "cell_type": "markdown",
      "metadata": {
        "id": "5F8iB3dtJ2-S",
        "colab_type": "text"
      },
      "source": [
        "**Install packages that will be needed in this project.**"
      ]
    },
    {
      "cell_type": "code",
      "metadata": {
        "id": "xlRR7UlIIFRb",
        "colab_type": "code",
        "colab": {
          "base_uri": "https://localhost:8080/",
          "height": 343
        },
        "outputId": "1ccb2b80-4950-4422-a5c1-64240b6ccbcc"
      },
      "source": [
        "!pip install pydicom\n",
        "!sudo pip install \"pyyaml==5.1\""
      ],
      "execution_count": null,
      "outputs": [
        {
          "output_type": "stream",
          "text": [
            "Collecting pydicom\n",
            "\u001b[?25l  Downloading https://files.pythonhosted.org/packages/53/e6/4cae2b4b2fdbea5e2ddd188361139606d8f10f710ba1abecd6600da099c3/pydicom-1.4.2-py2.py3-none-any.whl (35.3MB)\n",
            "\u001b[K     |████████████████████████████████| 35.3MB 89kB/s \n",
            "\u001b[?25hInstalling collected packages: pydicom\n",
            "Successfully installed pydicom-1.4.2\n",
            "Collecting pyyaml==5.1\n",
            "\u001b[?25l  Downloading https://files.pythonhosted.org/packages/9f/2c/9417b5c774792634834e730932745bc09a7d36754ca00acf1ccd1ac2594d/PyYAML-5.1.tar.gz (274kB)\n",
            "\u001b[K     |████████████████████████████████| 276kB 5.4MB/s \n",
            "\u001b[?25hBuilding wheels for collected packages: pyyaml\n",
            "  Building wheel for pyyaml (setup.py) ... \u001b[?25l\u001b[?25hdone\n",
            "  Created wheel for pyyaml: filename=PyYAML-5.1-cp36-cp36m-linux_x86_64.whl size=44074 sha256=44135c75c2b5b1a9c9b73e4ffd42d78bf6955ac9dfd222e7adf9651b36be05fb\n",
            "  Stored in directory: /root/.cache/pip/wheels/ad/56/bc/1522f864feb2a358ea6f1a92b4798d69ac783a28e80567a18b\n",
            "Successfully built pyyaml\n",
            "Installing collected packages: pyyaml\n",
            "  Found existing installation: PyYAML 3.13\n",
            "    Uninstalling PyYAML-3.13:\n",
            "      Successfully uninstalled PyYAML-3.13\n",
            "Successfully installed pyyaml-5.1\n"
          ],
          "name": "stdout"
        }
      ]
    },
    {
      "cell_type": "markdown",
      "metadata": {
        "id": "S7CZII1bMG4E",
        "colab_type": "text"
      },
      "source": [
        "Change directory to the project directory where the configuration file and the datasets are:"
      ]
    },
    {
      "cell_type": "code",
      "metadata": {
        "id": "cX9lTCJgMCW2",
        "colab_type": "code",
        "colab": {
          "base_uri": "https://localhost:8080/",
          "height": 34
        },
        "outputId": "19e4322e-aafb-4fc1-fa7b-8689e4ea4d1f"
      },
      "source": [
        "%cd gdrive/My\\ Drive/Project5/covid-cxr-master"
      ],
      "execution_count": null,
      "outputs": [
        {
          "output_type": "stream",
          "text": [
            "/content/gdrive/My Drive/Project5/covid-cxr-master\n"
          ],
          "name": "stdout"
        }
      ]
    },
    {
      "cell_type": "markdown",
      "metadata": {
        "id": "cxMCBdVJPYPs",
        "colab_type": "text"
      },
      "source": [
        "First we grab the paths where the datasets are located:"
      ]
    },
    {
      "cell_type": "code",
      "metadata": {
        "id": "WgdwiCltLQ4c",
        "colab_type": "code",
        "colab": {
          "base_uri": "https://localhost:8080/",
          "height": 68
        },
        "outputId": "603df7e6-63a2-4a35-e084-7384972aa973"
      },
      "source": [
        "import numpy as np\n",
        "import pandas as pd\n",
        "import pydicom as dicom\n",
        "import yaml\n",
        "import os\n",
        "import pathlib\n",
        "import shutil\n",
        "import cv2\n",
        "from tqdm import tqdm\n",
        "from sklearn.model_selection import train_test_split\n",
        "\n",
        "cfg = yaml.full_load(open(os.getcwd() + \"/config.yml\", 'r'))  # Load config data\n",
        "\n",
        "# Get paths of raw datasets to be included\n",
        "mila_data_path = cfg['PATHS']['MILA_DATA']\n",
        "fig1_data_path = cfg['PATHS']['FIGURE1_DATA']\n",
        "rsna_data_path = cfg['PATHS']['RSNA_DATA']\n",
        "\n",
        "print('Mila data path:', mila_data_path)\n",
        "print('Figure1 data path:', fig1_data_path)\n",
        "print('RSNA data path:', rsna_data_path)"
      ],
      "execution_count": null,
      "outputs": [
        {
          "output_type": "stream",
          "text": [
            "Mila data path: /content/gdrive/My Drive/Project5/covid-chestxray-dataset/\n",
            "Figure1 data path: /content/gdrive/My Drive/Project5/figure1/\n",
            "RSNA data path: /content/gdrive/My Drive/Project5/rsna/\n"
          ],
          "name": "stdout"
        }
      ]
    },
    {
      "cell_type": "markdown",
      "metadata": {
        "id": "dvDeNVBCPrt5",
        "colab_type": "text"
      },
      "source": [
        "Then we read the metadata.csv file in each of the datasets folders. metadata.csv has information about the images in the datasets, including labels, notes, patient id, finding, source of the image and most importantly the path to the image. We will first read the csv file in a data frame:"
      ]
    },
    {
      "cell_type": "code",
      "metadata": {
        "id": "ojCX7HhwPsD5",
        "colab_type": "code",
        "colab": {
          "base_uri": "https://localhost:8080/",
          "height": 581
        },
        "outputId": "a8936c4e-a6f8-410c-a682-849a2da18524"
      },
      "source": [
        "mila_df = pd.read_csv(mila_data_path + 'metadata.csv')\n",
        "mila_df.head(5)"
      ],
      "execution_count": null,
      "outputs": [
        {
          "output_type": "execute_result",
          "data": {
            "text/html": [
              "<div>\n",
              "<style scoped>\n",
              "    .dataframe tbody tr th:only-of-type {\n",
              "        vertical-align: middle;\n",
              "    }\n",
              "\n",
              "    .dataframe tbody tr th {\n",
              "        vertical-align: top;\n",
              "    }\n",
              "\n",
              "    .dataframe thead th {\n",
              "        text-align: right;\n",
              "    }\n",
              "</style>\n",
              "<table border=\"1\" class=\"dataframe\">\n",
              "  <thead>\n",
              "    <tr style=\"text-align: right;\">\n",
              "      <th></th>\n",
              "      <th>patientid</th>\n",
              "      <th>offset</th>\n",
              "      <th>sex</th>\n",
              "      <th>age</th>\n",
              "      <th>finding</th>\n",
              "      <th>survival</th>\n",
              "      <th>intubated</th>\n",
              "      <th>intubation_present</th>\n",
              "      <th>went_icu</th>\n",
              "      <th>needed_supplemental_O2</th>\n",
              "      <th>extubated</th>\n",
              "      <th>temperature</th>\n",
              "      <th>pO2_saturation</th>\n",
              "      <th>leukocyte_count</th>\n",
              "      <th>neutrophil_count</th>\n",
              "      <th>lymphocyte_count</th>\n",
              "      <th>view</th>\n",
              "      <th>modality</th>\n",
              "      <th>date</th>\n",
              "      <th>location</th>\n",
              "      <th>folder</th>\n",
              "      <th>filename</th>\n",
              "      <th>doi</th>\n",
              "      <th>url</th>\n",
              "      <th>license</th>\n",
              "      <th>clinical_notes</th>\n",
              "      <th>other_notes</th>\n",
              "      <th>Unnamed: 27</th>\n",
              "    </tr>\n",
              "  </thead>\n",
              "  <tbody>\n",
              "    <tr>\n",
              "      <th>0</th>\n",
              "      <td>2</td>\n",
              "      <td>0.0</td>\n",
              "      <td>M</td>\n",
              "      <td>65.0</td>\n",
              "      <td>COVID-19</td>\n",
              "      <td>Y</td>\n",
              "      <td>NaN</td>\n",
              "      <td>NaN</td>\n",
              "      <td>NaN</td>\n",
              "      <td>NaN</td>\n",
              "      <td>NaN</td>\n",
              "      <td>NaN</td>\n",
              "      <td>NaN</td>\n",
              "      <td>NaN</td>\n",
              "      <td>NaN</td>\n",
              "      <td>NaN</td>\n",
              "      <td>PA</td>\n",
              "      <td>X-ray</td>\n",
              "      <td>January 22, 2020</td>\n",
              "      <td>Cho Ray Hospital, Ho Chi Minh City, Vietnam</td>\n",
              "      <td>images</td>\n",
              "      <td>auntminnie-a-2020_01_28_23_51_6665_2020_01_28_...</td>\n",
              "      <td>10.1056/nejmc2001272</td>\n",
              "      <td>https://www.nejm.org/doi/full/10.1056/NEJMc200...</td>\n",
              "      <td>NaN</td>\n",
              "      <td>infiltrate in the upper lobe of the left lung</td>\n",
              "      <td>NaN</td>\n",
              "      <td>NaN</td>\n",
              "    </tr>\n",
              "    <tr>\n",
              "      <th>1</th>\n",
              "      <td>2</td>\n",
              "      <td>3.0</td>\n",
              "      <td>M</td>\n",
              "      <td>65.0</td>\n",
              "      <td>COVID-19</td>\n",
              "      <td>Y</td>\n",
              "      <td>NaN</td>\n",
              "      <td>NaN</td>\n",
              "      <td>NaN</td>\n",
              "      <td>NaN</td>\n",
              "      <td>NaN</td>\n",
              "      <td>NaN</td>\n",
              "      <td>NaN</td>\n",
              "      <td>NaN</td>\n",
              "      <td>NaN</td>\n",
              "      <td>NaN</td>\n",
              "      <td>PA</td>\n",
              "      <td>X-ray</td>\n",
              "      <td>January 25, 2020</td>\n",
              "      <td>Cho Ray Hospital, Ho Chi Minh City, Vietnam</td>\n",
              "      <td>images</td>\n",
              "      <td>auntminnie-b-2020_01_28_23_51_6665_2020_01_28_...</td>\n",
              "      <td>10.1056/nejmc2001272</td>\n",
              "      <td>https://www.nejm.org/doi/full/10.1056/NEJMc200...</td>\n",
              "      <td>NaN</td>\n",
              "      <td>progressive infiltrate and consolidation</td>\n",
              "      <td>NaN</td>\n",
              "      <td>NaN</td>\n",
              "    </tr>\n",
              "    <tr>\n",
              "      <th>2</th>\n",
              "      <td>2</td>\n",
              "      <td>5.0</td>\n",
              "      <td>M</td>\n",
              "      <td>65.0</td>\n",
              "      <td>COVID-19</td>\n",
              "      <td>Y</td>\n",
              "      <td>NaN</td>\n",
              "      <td>NaN</td>\n",
              "      <td>NaN</td>\n",
              "      <td>NaN</td>\n",
              "      <td>NaN</td>\n",
              "      <td>NaN</td>\n",
              "      <td>NaN</td>\n",
              "      <td>NaN</td>\n",
              "      <td>NaN</td>\n",
              "      <td>NaN</td>\n",
              "      <td>PA</td>\n",
              "      <td>X-ray</td>\n",
              "      <td>January 27, 2020</td>\n",
              "      <td>Cho Ray Hospital, Ho Chi Minh City, Vietnam</td>\n",
              "      <td>images</td>\n",
              "      <td>auntminnie-c-2020_01_28_23_51_6665_2020_01_28_...</td>\n",
              "      <td>10.1056/nejmc2001272</td>\n",
              "      <td>https://www.nejm.org/doi/full/10.1056/NEJMc200...</td>\n",
              "      <td>NaN</td>\n",
              "      <td>progressive infiltrate and consolidation</td>\n",
              "      <td>NaN</td>\n",
              "      <td>NaN</td>\n",
              "    </tr>\n",
              "    <tr>\n",
              "      <th>3</th>\n",
              "      <td>2</td>\n",
              "      <td>6.0</td>\n",
              "      <td>M</td>\n",
              "      <td>65.0</td>\n",
              "      <td>COVID-19</td>\n",
              "      <td>Y</td>\n",
              "      <td>NaN</td>\n",
              "      <td>NaN</td>\n",
              "      <td>NaN</td>\n",
              "      <td>NaN</td>\n",
              "      <td>NaN</td>\n",
              "      <td>NaN</td>\n",
              "      <td>NaN</td>\n",
              "      <td>NaN</td>\n",
              "      <td>NaN</td>\n",
              "      <td>NaN</td>\n",
              "      <td>PA</td>\n",
              "      <td>X-ray</td>\n",
              "      <td>January 28, 2020</td>\n",
              "      <td>Cho Ray Hospital, Ho Chi Minh City, Vietnam</td>\n",
              "      <td>images</td>\n",
              "      <td>auntminnie-d-2020_01_28_23_51_6665_2020_01_28_...</td>\n",
              "      <td>10.1056/nejmc2001272</td>\n",
              "      <td>https://www.nejm.org/doi/full/10.1056/NEJMc200...</td>\n",
              "      <td>NaN</td>\n",
              "      <td>progressive infiltrate and consolidation</td>\n",
              "      <td>NaN</td>\n",
              "      <td>NaN</td>\n",
              "    </tr>\n",
              "    <tr>\n",
              "      <th>4</th>\n",
              "      <td>4</td>\n",
              "      <td>0.0</td>\n",
              "      <td>F</td>\n",
              "      <td>52.0</td>\n",
              "      <td>COVID-19</td>\n",
              "      <td>NaN</td>\n",
              "      <td>NaN</td>\n",
              "      <td>NaN</td>\n",
              "      <td>NaN</td>\n",
              "      <td>NaN</td>\n",
              "      <td>NaN</td>\n",
              "      <td>NaN</td>\n",
              "      <td>NaN</td>\n",
              "      <td>NaN</td>\n",
              "      <td>NaN</td>\n",
              "      <td>NaN</td>\n",
              "      <td>PA</td>\n",
              "      <td>X-ray</td>\n",
              "      <td>January 25, 2020</td>\n",
              "      <td>Changhua Christian Hospital, Changhua City, Ta...</td>\n",
              "      <td>images</td>\n",
              "      <td>nejmc2001573_f1a.jpeg</td>\n",
              "      <td>10.1056/NEJMc2001573</td>\n",
              "      <td>https://www.nejm.org/doi/full/10.1056/NEJMc200...</td>\n",
              "      <td>NaN</td>\n",
              "      <td>diffuse infiltrates in the bilateral lower lungs</td>\n",
              "      <td>NaN</td>\n",
              "      <td>NaN</td>\n",
              "    </tr>\n",
              "  </tbody>\n",
              "</table>\n",
              "</div>"
            ],
            "text/plain": [
              "   patientid  offset  ... other_notes  Unnamed: 27\n",
              "0          2     0.0  ...         NaN          NaN\n",
              "1          2     3.0  ...         NaN          NaN\n",
              "2          2     5.0  ...         NaN          NaN\n",
              "3          2     6.0  ...         NaN          NaN\n",
              "4          4     0.0  ...         NaN          NaN\n",
              "\n",
              "[5 rows x 28 columns]"
            ]
          },
          "metadata": {
            "tags": []
          },
          "execution_count": 5
        }
      ]
    },
    {
      "cell_type": "markdown",
      "metadata": {
        "id": "roPqEMIfSL2X",
        "colab_type": "text"
      },
      "source": [
        "We replace the filename column with the actual compelte path of the image:\n",
        "\n",
        "---\n",
        "\n"
      ]
    },
    {
      "cell_type": "code",
      "metadata": {
        "id": "Az4yMnNqSRWy",
        "colab_type": "code",
        "colab": {
          "base_uri": "https://localhost:8080/",
          "height": 581
        },
        "outputId": "9c1c929b-2157-48c1-c929-f0691552c8bc"
      },
      "source": [
        "mila_df['filename'] = mila_data_path + 'images/' + mila_df['filename'].astype(str)\n",
        "mila_df.head(5)"
      ],
      "execution_count": null,
      "outputs": [
        {
          "output_type": "execute_result",
          "data": {
            "text/html": [
              "<div>\n",
              "<style scoped>\n",
              "    .dataframe tbody tr th:only-of-type {\n",
              "        vertical-align: middle;\n",
              "    }\n",
              "\n",
              "    .dataframe tbody tr th {\n",
              "        vertical-align: top;\n",
              "    }\n",
              "\n",
              "    .dataframe thead th {\n",
              "        text-align: right;\n",
              "    }\n",
              "</style>\n",
              "<table border=\"1\" class=\"dataframe\">\n",
              "  <thead>\n",
              "    <tr style=\"text-align: right;\">\n",
              "      <th></th>\n",
              "      <th>patientid</th>\n",
              "      <th>offset</th>\n",
              "      <th>sex</th>\n",
              "      <th>age</th>\n",
              "      <th>finding</th>\n",
              "      <th>survival</th>\n",
              "      <th>intubated</th>\n",
              "      <th>intubation_present</th>\n",
              "      <th>went_icu</th>\n",
              "      <th>needed_supplemental_O2</th>\n",
              "      <th>extubated</th>\n",
              "      <th>temperature</th>\n",
              "      <th>pO2_saturation</th>\n",
              "      <th>leukocyte_count</th>\n",
              "      <th>neutrophil_count</th>\n",
              "      <th>lymphocyte_count</th>\n",
              "      <th>view</th>\n",
              "      <th>modality</th>\n",
              "      <th>date</th>\n",
              "      <th>location</th>\n",
              "      <th>folder</th>\n",
              "      <th>filename</th>\n",
              "      <th>doi</th>\n",
              "      <th>url</th>\n",
              "      <th>license</th>\n",
              "      <th>clinical_notes</th>\n",
              "      <th>other_notes</th>\n",
              "      <th>Unnamed: 27</th>\n",
              "    </tr>\n",
              "  </thead>\n",
              "  <tbody>\n",
              "    <tr>\n",
              "      <th>0</th>\n",
              "      <td>2</td>\n",
              "      <td>0.0</td>\n",
              "      <td>M</td>\n",
              "      <td>65.0</td>\n",
              "      <td>COVID-19</td>\n",
              "      <td>Y</td>\n",
              "      <td>NaN</td>\n",
              "      <td>NaN</td>\n",
              "      <td>NaN</td>\n",
              "      <td>NaN</td>\n",
              "      <td>NaN</td>\n",
              "      <td>NaN</td>\n",
              "      <td>NaN</td>\n",
              "      <td>NaN</td>\n",
              "      <td>NaN</td>\n",
              "      <td>NaN</td>\n",
              "      <td>PA</td>\n",
              "      <td>X-ray</td>\n",
              "      <td>January 22, 2020</td>\n",
              "      <td>Cho Ray Hospital, Ho Chi Minh City, Vietnam</td>\n",
              "      <td>images</td>\n",
              "      <td>/content/gdrive/My Drive/Project5/covid-chestx...</td>\n",
              "      <td>10.1056/nejmc2001272</td>\n",
              "      <td>https://www.nejm.org/doi/full/10.1056/NEJMc200...</td>\n",
              "      <td>NaN</td>\n",
              "      <td>infiltrate in the upper lobe of the left lung</td>\n",
              "      <td>NaN</td>\n",
              "      <td>NaN</td>\n",
              "    </tr>\n",
              "    <tr>\n",
              "      <th>1</th>\n",
              "      <td>2</td>\n",
              "      <td>3.0</td>\n",
              "      <td>M</td>\n",
              "      <td>65.0</td>\n",
              "      <td>COVID-19</td>\n",
              "      <td>Y</td>\n",
              "      <td>NaN</td>\n",
              "      <td>NaN</td>\n",
              "      <td>NaN</td>\n",
              "      <td>NaN</td>\n",
              "      <td>NaN</td>\n",
              "      <td>NaN</td>\n",
              "      <td>NaN</td>\n",
              "      <td>NaN</td>\n",
              "      <td>NaN</td>\n",
              "      <td>NaN</td>\n",
              "      <td>PA</td>\n",
              "      <td>X-ray</td>\n",
              "      <td>January 25, 2020</td>\n",
              "      <td>Cho Ray Hospital, Ho Chi Minh City, Vietnam</td>\n",
              "      <td>images</td>\n",
              "      <td>/content/gdrive/My Drive/Project5/covid-chestx...</td>\n",
              "      <td>10.1056/nejmc2001272</td>\n",
              "      <td>https://www.nejm.org/doi/full/10.1056/NEJMc200...</td>\n",
              "      <td>NaN</td>\n",
              "      <td>progressive infiltrate and consolidation</td>\n",
              "      <td>NaN</td>\n",
              "      <td>NaN</td>\n",
              "    </tr>\n",
              "    <tr>\n",
              "      <th>2</th>\n",
              "      <td>2</td>\n",
              "      <td>5.0</td>\n",
              "      <td>M</td>\n",
              "      <td>65.0</td>\n",
              "      <td>COVID-19</td>\n",
              "      <td>Y</td>\n",
              "      <td>NaN</td>\n",
              "      <td>NaN</td>\n",
              "      <td>NaN</td>\n",
              "      <td>NaN</td>\n",
              "      <td>NaN</td>\n",
              "      <td>NaN</td>\n",
              "      <td>NaN</td>\n",
              "      <td>NaN</td>\n",
              "      <td>NaN</td>\n",
              "      <td>NaN</td>\n",
              "      <td>PA</td>\n",
              "      <td>X-ray</td>\n",
              "      <td>January 27, 2020</td>\n",
              "      <td>Cho Ray Hospital, Ho Chi Minh City, Vietnam</td>\n",
              "      <td>images</td>\n",
              "      <td>/content/gdrive/My Drive/Project5/covid-chestx...</td>\n",
              "      <td>10.1056/nejmc2001272</td>\n",
              "      <td>https://www.nejm.org/doi/full/10.1056/NEJMc200...</td>\n",
              "      <td>NaN</td>\n",
              "      <td>progressive infiltrate and consolidation</td>\n",
              "      <td>NaN</td>\n",
              "      <td>NaN</td>\n",
              "    </tr>\n",
              "    <tr>\n",
              "      <th>3</th>\n",
              "      <td>2</td>\n",
              "      <td>6.0</td>\n",
              "      <td>M</td>\n",
              "      <td>65.0</td>\n",
              "      <td>COVID-19</td>\n",
              "      <td>Y</td>\n",
              "      <td>NaN</td>\n",
              "      <td>NaN</td>\n",
              "      <td>NaN</td>\n",
              "      <td>NaN</td>\n",
              "      <td>NaN</td>\n",
              "      <td>NaN</td>\n",
              "      <td>NaN</td>\n",
              "      <td>NaN</td>\n",
              "      <td>NaN</td>\n",
              "      <td>NaN</td>\n",
              "      <td>PA</td>\n",
              "      <td>X-ray</td>\n",
              "      <td>January 28, 2020</td>\n",
              "      <td>Cho Ray Hospital, Ho Chi Minh City, Vietnam</td>\n",
              "      <td>images</td>\n",
              "      <td>/content/gdrive/My Drive/Project5/covid-chestx...</td>\n",
              "      <td>10.1056/nejmc2001272</td>\n",
              "      <td>https://www.nejm.org/doi/full/10.1056/NEJMc200...</td>\n",
              "      <td>NaN</td>\n",
              "      <td>progressive infiltrate and consolidation</td>\n",
              "      <td>NaN</td>\n",
              "      <td>NaN</td>\n",
              "    </tr>\n",
              "    <tr>\n",
              "      <th>4</th>\n",
              "      <td>4</td>\n",
              "      <td>0.0</td>\n",
              "      <td>F</td>\n",
              "      <td>52.0</td>\n",
              "      <td>COVID-19</td>\n",
              "      <td>NaN</td>\n",
              "      <td>NaN</td>\n",
              "      <td>NaN</td>\n",
              "      <td>NaN</td>\n",
              "      <td>NaN</td>\n",
              "      <td>NaN</td>\n",
              "      <td>NaN</td>\n",
              "      <td>NaN</td>\n",
              "      <td>NaN</td>\n",
              "      <td>NaN</td>\n",
              "      <td>NaN</td>\n",
              "      <td>PA</td>\n",
              "      <td>X-ray</td>\n",
              "      <td>January 25, 2020</td>\n",
              "      <td>Changhua Christian Hospital, Changhua City, Ta...</td>\n",
              "      <td>images</td>\n",
              "      <td>/content/gdrive/My Drive/Project5/covid-chestx...</td>\n",
              "      <td>10.1056/NEJMc2001573</td>\n",
              "      <td>https://www.nejm.org/doi/full/10.1056/NEJMc200...</td>\n",
              "      <td>NaN</td>\n",
              "      <td>diffuse infiltrates in the bilateral lower lungs</td>\n",
              "      <td>NaN</td>\n",
              "      <td>NaN</td>\n",
              "    </tr>\n",
              "  </tbody>\n",
              "</table>\n",
              "</div>"
            ],
            "text/plain": [
              "   patientid  offset  ... other_notes  Unnamed: 27\n",
              "0          2     0.0  ...         NaN          NaN\n",
              "1          2     3.0  ...         NaN          NaN\n",
              "2          2     5.0  ...         NaN          NaN\n",
              "3          2     6.0  ...         NaN          NaN\n",
              "4          4     0.0  ...         NaN          NaN\n",
              "\n",
              "[5 rows x 28 columns]"
            ]
          },
          "metadata": {
            "tags": []
          },
          "execution_count": 6
        }
      ]
    },
    {
      "cell_type": "markdown",
      "metadata": {
        "id": "5iTLePtHSV6_",
        "colab_type": "text"
      },
      "source": [
        "Select images that have either PA or AP views. PA and AP are grabbed from the configuration file. '|' is to combine PA and AP to have the logical form PA|AP. The result of this search si a boolean array."
      ]
    },
    {
      "cell_type": "code",
      "metadata": {
        "id": "G3taOpM6SWI6",
        "colab_type": "code",
        "colab": {
          "base_uri": "https://localhost:8080/",
          "height": 119
        },
        "outputId": "ba756e70-a866-4b44-bb71-c71b63281933"
      },
      "source": [
        "mila_views_cxrs_df = (mila_df['view'].str.contains('|'.join(cfg['DATA']['VIEWS'])))    # Select desired X-ray views\n",
        "mila_views_cxrs_df.head(5)"
      ],
      "execution_count": null,
      "outputs": [
        {
          "output_type": "execute_result",
          "data": {
            "text/plain": [
              "0    True\n",
              "1    True\n",
              "2    True\n",
              "3    True\n",
              "4    True\n",
              "Name: view, dtype: bool"
            ]
          },
          "metadata": {
            "tags": []
          },
          "execution_count": 7
        }
      ]
    },
    {
      "cell_type": "markdown",
      "metadata": {
        "id": "GlulQFO1U6vR",
        "colab_type": "text"
      },
      "source": [
        "Select the images that have COVID-19 cases:"
      ]
    },
    {
      "cell_type": "code",
      "metadata": {
        "id": "oRfgQ785T_8Y",
        "colab_type": "code",
        "colab": {
          "base_uri": "https://localhost:8080/",
          "height": 119
        },
        "outputId": "3200b6bb-f2e0-46b5-c20a-052f7ec04eea"
      },
      "source": [
        "mila_covid_pts_df = (mila_df['finding'] == 'COVID-19')\n",
        "mila_covid_pts_df.head(5)"
      ],
      "execution_count": null,
      "outputs": [
        {
          "output_type": "execute_result",
          "data": {
            "text/plain": [
              "0    True\n",
              "1    True\n",
              "2    True\n",
              "3    True\n",
              "4    True\n",
              "Name: finding, dtype: bool"
            ]
          },
          "metadata": {
            "tags": []
          },
          "execution_count": 8
        }
      ]
    },
    {
      "cell_type": "markdown",
      "metadata": {
        "id": "QBIuSgS7VH1F",
        "colab_type": "text"
      },
      "source": [
        "Combine the two conditions (Views of PA|PA and COVID19 cases):"
      ]
    },
    {
      "cell_type": "code",
      "metadata": {
        "id": "B60KUISWVIjk",
        "colab_type": "code",
        "colab": {}
      },
      "source": [
        "mila_covid_views_df = mila_df[mila_covid_pts_df & mila_views_cxrs_df]  # Images for patients diagnosed with COVID-19"
      ],
      "execution_count": null,
      "outputs": []
    },
    {
      "cell_type": "markdown",
      "metadata": {
        "id": "iwxs2YlZXLf3",
        "colab_type": "text"
      },
      "source": [
        "The same process is done for the other two datasets. \n",
        "\n",
        "*   Figure1 dataset doesn't have a \"filename\" filed in their csv file. We create this field by referring to the patient-id and looking for the patientid in the /images folder (either png or jpg). The dataset, as provided, has PA or AP images even though the \"view\" column has NA items. Thus, we fill the \"views\" column with \"PA or AP\".\n",
        "*   RSNA metadata csv file doesn't have a filename field too. However, similar to Figure 1 dataset, it has a patient id field from which we can fetch each image's path. Also, the images are available in dcm format. The metadata csv file has a target column which is either 0 \"no condition\" or 1 \"pneumonia\". Note that this dataset doens't have any COVID19 cases. However, we use this dataset to populate our training data for the \"non COVID-19\" class. We split our collection to have 500 images taken from the \"no condition\" and 500 images from \"pneumonia\". We create jpg copies in the dataset folder. Note that 500 is half [num_rsna_imgs].\n",
        "\n",
        "**Note: DCM images have a lot of data embedded and encrypted in them such as Patient name, age, Body part imaged, view, etc. Here we extract the view information using the dicom library**\n"
      ]
    },
    {
      "cell_type": "code",
      "metadata": {
        "id": "WBxX4U6WOay9",
        "colab_type": "code",
        "colab": {}
      },
      "source": [
        "# Assemble filenames comprising Figure 1 dataset\n",
        "fig1_df = pd.read_csv(fig1_data_path + 'metadata.csv', encoding='ISO-8859-1')\n",
        "fig1_df['filename'] = ''\n",
        "for i, row in fig1_df.iterrows():\n",
        "    if os.path.exists(fig1_data_path + 'images/' + fig1_df.loc[i, 'patientid'] + '.jpg'):\n",
        "        fig1_df.loc[i, 'filename'] = fig1_data_path + 'images/' + fig1_df.loc[i, 'patientid'] + '.jpg'\n",
        "    else:\n",
        "        fig1_df.loc[i, 'filename'] = fig1_data_path + 'images/' + fig1_df.loc[i, 'patientid'] + '.png'\n",
        "fig1_df['view'].fillna('PA or AP', inplace=True)    # All images in this dataset are either AP or PA\n",
        "fig1_views_cxrs_df = (fig1_df['view'].str.contains('|'.join(cfg['DATA']['VIEWS'])))    # Select desired X-ray views\n",
        "fig1_covid_pts_df = (fig1_df['finding'] == 'COVID-19')\n",
        "fig1_covid_views_df = fig1_df[fig1_covid_pts_df & fig1_views_cxrs_df]  # Images for patients diagnosed COVID-19\n",
        "\n",
        "# Assemble filenames comprising RSNA dataset\n",
        "rsna_metadata_path = rsna_data_path + 'stage_2_train_labels.csv'\n",
        "rsna_df = pd.read_csv(rsna_metadata_path)\n",
        "num_rsna_imgs = cfg['DATA']['NUM_RSNA_IMGS']\n",
        "rsna_normal_df = rsna_df[rsna_df['Target'] == 0]\n",
        "rsna_pneum_df = rsna_df[rsna_df['Target'] == 1]\n",
        "\n",
        "# Convert dicom files of CXRs with no findings to jpg if not done already in a previous run. Select desired views.\n",
        "file_counter = 0\n",
        "normal_idxs = []\n",
        "for df_idx in rsna_normal_df.index.values.tolist():\n",
        "    filename = rsna_normal_df.loc[df_idx]['patientId']\n",
        "    ds = dicom.dcmread(os.path.join(rsna_data_path + 'stage_2_train_images/' + filename + '.dcm'))\n",
        "    if any(view in ds.SeriesDescription.split(' ')[1] for view in cfg['DATA']['VIEWS']):  # Select desired X-ray views\n",
        "        if not os.path.exists(rsna_data_path + filename + '.jpg'):\n",
        "            cv2.imwrite(os.path.join(rsna_data_path + filename + '.jpg'), ds.pixel_array)   # Save as .jpg\n",
        "        normal_idxs.append(df_idx)\n",
        "        file_counter += 1\n",
        "    if file_counter >= num_rsna_imgs // 2:\n",
        "        break\n",
        "rsna_normal_df = rsna_normal_df.loc[normal_idxs]\n",
        "\n",
        "\n",
        "# Convert dicom files of CXRs with pneumonia to jpg if not done already in a previous run. Select desired views.\n",
        "file_counter = 0\n",
        "pneum_idxs = []\n",
        "num_remaining = num_rsna_imgs - num_rsna_imgs // 2\n",
        "for df_idx in rsna_pneum_df.index.values.tolist():\n",
        "    filename = rsna_pneum_df.loc[df_idx]['patientId']\n",
        "    ds = dicom.dcmread(os.path.join(rsna_data_path + 'stage_2_train_images/' + filename + '.dcm'))\n",
        "    if any(view in ds.SeriesDescription.split(' ')[1] for view in cfg['DATA']['VIEWS']):  # Select desired X-ray views\n",
        "        if not os.path.exists(rsna_data_path + filename + '.jpg'):\n",
        "            cv2.imwrite(os.path.join(rsna_data_path + filename + '.jpg'), ds.pixel_array)  # Save as .jpg\n",
        "        pneum_idxs.append(df_idx)\n",
        "        file_counter += 1\n",
        "    if file_counter >= num_remaining:\n",
        "        break\n",
        "rsna_pneum_df = rsna_pneum_df.loc[pneum_idxs]"
      ],
      "execution_count": null,
      "outputs": []
    },
    {
      "cell_type": "markdown",
      "metadata": {
        "id": "Zt09b7yM8Sl4",
        "colab_type": "text"
      },
      "source": [
        "We examine the dataframes for 'no condition' and 'Pneumonia' individuals."
      ]
    },
    {
      "cell_type": "code",
      "metadata": {
        "id": "KxPzDupajX45",
        "colab_type": "code",
        "colab": {
          "base_uri": "https://localhost:8080/",
          "height": 176
        },
        "outputId": "6154e631-6056-43d1-d015-da737cfde2d0"
      },
      "source": [
        "print('The shape of RSNA No condition dataframe:', rsna_normal_df.shape)\n",
        "print('The shape of RSNA Pneumonia dataframe:', rsna_pneum_df.shape)\n",
        "rsna_normal_df.head(3)\n"
      ],
      "execution_count": null,
      "outputs": [
        {
          "output_type": "stream",
          "text": [
            "The shape of RSNA No condition dataframe: (500, 6)\n",
            "The shape of RSNA Pneumonia dataframe: (500, 6)\n"
          ],
          "name": "stdout"
        },
        {
          "output_type": "execute_result",
          "data": {
            "text/html": [
              "<div>\n",
              "<style scoped>\n",
              "    .dataframe tbody tr th:only-of-type {\n",
              "        vertical-align: middle;\n",
              "    }\n",
              "\n",
              "    .dataframe tbody tr th {\n",
              "        vertical-align: top;\n",
              "    }\n",
              "\n",
              "    .dataframe thead th {\n",
              "        text-align: right;\n",
              "    }\n",
              "</style>\n",
              "<table border=\"1\" class=\"dataframe\">\n",
              "  <thead>\n",
              "    <tr style=\"text-align: right;\">\n",
              "      <th></th>\n",
              "      <th>patientId</th>\n",
              "      <th>x</th>\n",
              "      <th>y</th>\n",
              "      <th>width</th>\n",
              "      <th>height</th>\n",
              "      <th>Target</th>\n",
              "    </tr>\n",
              "  </thead>\n",
              "  <tbody>\n",
              "    <tr>\n",
              "      <th>0</th>\n",
              "      <td>0004cfab-14fd-4e49-80ba-63a80b6bddd6</td>\n",
              "      <td>NaN</td>\n",
              "      <td>NaN</td>\n",
              "      <td>NaN</td>\n",
              "      <td>NaN</td>\n",
              "      <td>0</td>\n",
              "    </tr>\n",
              "    <tr>\n",
              "      <th>1</th>\n",
              "      <td>00313ee0-9eaa-42f4-b0ab-c148ed3241cd</td>\n",
              "      <td>NaN</td>\n",
              "      <td>NaN</td>\n",
              "      <td>NaN</td>\n",
              "      <td>NaN</td>\n",
              "      <td>0</td>\n",
              "    </tr>\n",
              "    <tr>\n",
              "      <th>2</th>\n",
              "      <td>00322d4d-1c29-4943-afc9-b6754be640eb</td>\n",
              "      <td>NaN</td>\n",
              "      <td>NaN</td>\n",
              "      <td>NaN</td>\n",
              "      <td>NaN</td>\n",
              "      <td>0</td>\n",
              "    </tr>\n",
              "  </tbody>\n",
              "</table>\n",
              "</div>"
            ],
            "text/plain": [
              "                              patientId   x   y  width  height  Target\n",
              "0  0004cfab-14fd-4e49-80ba-63a80b6bddd6 NaN NaN    NaN     NaN       0\n",
              "1  00313ee0-9eaa-42f4-b0ab-c148ed3241cd NaN NaN    NaN     NaN       0\n",
              "2  00322d4d-1c29-4943-afc9-b6754be640eb NaN NaN    NaN     NaN       0"
            ]
          },
          "metadata": {
            "tags": []
          },
          "execution_count": 14
        }
      ]
    },
    {
      "cell_type": "markdown",
      "metadata": {
        "id": "hvQvOOGj9dts",
        "colab_type": "text"
      },
      "source": [
        "Now we fetch more parameters related to the data we want to train out model on. For now, we are considering a binary classification model 'non-COVID-19'or 'COVID-19' as our classes."
      ]
    },
    {
      "cell_type": "code",
      "metadata": {
        "id": "gUalE1FTabRY",
        "colab_type": "code",
        "colab": {
          "base_uri": "https://localhost:8080/",
          "height": 85
        },
        "outputId": "49d75dc3-209c-4747-a82d-59be782f9772"
      },
      "source": [
        "mode = cfg['TRAIN']['CLASS_MODE'] #'non-COVID-19', 'COVID-19'\n",
        "n_classes = len(cfg['DATA']['CLASSES']) #2\n",
        "class_dict = {cfg['DATA']['CLASSES'][i]: i for i in range(n_classes)}  # Map class name to number\n",
        "label_dict = {i: cfg['DATA']['CLASSES'][i] for i in range(n_classes)}  # Map class name to number\n",
        "\n",
        "print('Mode:', mode)\n",
        "print('Number of classes:',n_classes)\n",
        "print('Class dictionary:',class_dict)\n",
        "print('Label dictionary:',label_dict)"
      ],
      "execution_count": null,
      "outputs": [
        {
          "output_type": "stream",
          "text": [
            "Mode: binary\n",
            "Number of classes: 2\n",
            "Class dictionary: {'non-COVID-19': 0, 'COVID-19': 1}\n",
            "Label dictionary: {0: 'non-COVID-19', 1: 'COVID-19'}\n"
          ],
          "name": "stdout"
        }
      ]
    },
    {
      "cell_type": "markdown",
      "metadata": {
        "id": "C0K9JrVzQmzC",
        "colab_type": "text"
      },
      "source": [
        "Now we do the following:\n",
        "\n",
        "\n",
        "*   Add a column for mila_covid df called \"label\" with values of 1.\n",
        "*   Create a new dataframe for non-covid cases in mila dataset. Create a label for this df with values =0.\n",
        "*   Add a column for fig1_covid df called \"label\" with values of 1.\n",
        "*   Concatenate RSNA data for normal and Pneumonia cases, add filename column and label them all with 0.\n",
        "*   Concatenate all the dataframes together.\n",
        "\n",
        "We have a look at the final dataframe which will proceed with, which basically consists of the filename (path of the image) with its label and string format of the label:\n",
        "\n",
        "\n",
        "\n",
        "\n",
        "\n"
      ]
    },
    {
      "cell_type": "code",
      "metadata": {
        "id": "2RaFNZgQS49P",
        "colab_type": "code",
        "colab": {
          "base_uri": "https://localhost:8080/",
          "height": 665
        },
        "outputId": "5b4e9ce3-bfe3-4c88-877a-a91119dd6095"
      },
      "source": [
        "mila_covid_views_df['label'] = 1                                       # Mila images with COVID-19 diagnosis\n",
        "mila_other_views_df = mila_df[~mila_covid_pts_df & mila_views_cxrs_df]\n",
        "mila_other_views_df['label'] = 0                                       # Mila images with alternative diagnoses\n",
        "fig1_covid_views_df['label'] = 1                                       # Figure 1 images with COVID-19 diagnosis\n",
        "file_df = pd.concat([mila_covid_views_df[['filename', 'label']], mila_other_views_df[['filename', 'label']],\n",
        "                      fig1_covid_views_df[['filename', 'label']]], axis=0)\n",
        "\n",
        "rsna_df = pd.concat([rsna_normal_df, rsna_pneum_df], axis=0)\n",
        "rsna_filenames = rsna_data_path + rsna_df['patientId'].astype(str) + '.jpg'\n",
        "rsna_file_df = pd.DataFrame({'filename': rsna_filenames, 'label': 0})\n",
        "\n",
        "file_df = pd.concat([file_df, rsna_file_df], axis=0)         # Combine both datasets\n",
        "file_df['label_str'] = file_df['label'].map(label_dict) # Add column for string representation of label\n",
        "\n",
        "file_df.head(10)\n"
      ],
      "execution_count": null,
      "outputs": [
        {
          "output_type": "stream",
          "text": [
            "/usr/local/lib/python3.6/dist-packages/ipykernel_launcher.py:1: SettingWithCopyWarning: \n",
            "A value is trying to be set on a copy of a slice from a DataFrame.\n",
            "Try using .loc[row_indexer,col_indexer] = value instead\n",
            "\n",
            "See the caveats in the documentation: https://pandas.pydata.org/pandas-docs/stable/user_guide/indexing.html#returning-a-view-versus-a-copy\n",
            "  \"\"\"Entry point for launching an IPython kernel.\n",
            "/usr/local/lib/python3.6/dist-packages/ipykernel_launcher.py:3: SettingWithCopyWarning: \n",
            "A value is trying to be set on a copy of a slice from a DataFrame.\n",
            "Try using .loc[row_indexer,col_indexer] = value instead\n",
            "\n",
            "See the caveats in the documentation: https://pandas.pydata.org/pandas-docs/stable/user_guide/indexing.html#returning-a-view-versus-a-copy\n",
            "  This is separate from the ipykernel package so we can avoid doing imports until\n",
            "/usr/local/lib/python3.6/dist-packages/ipykernel_launcher.py:4: SettingWithCopyWarning: \n",
            "A value is trying to be set on a copy of a slice from a DataFrame.\n",
            "Try using .loc[row_indexer,col_indexer] = value instead\n",
            "\n",
            "See the caveats in the documentation: https://pandas.pydata.org/pandas-docs/stable/user_guide/indexing.html#returning-a-view-versus-a-copy\n",
            "  after removing the cwd from sys.path.\n"
          ],
          "name": "stderr"
        },
        {
          "output_type": "execute_result",
          "data": {
            "text/html": [
              "<div>\n",
              "<style scoped>\n",
              "    .dataframe tbody tr th:only-of-type {\n",
              "        vertical-align: middle;\n",
              "    }\n",
              "\n",
              "    .dataframe tbody tr th {\n",
              "        vertical-align: top;\n",
              "    }\n",
              "\n",
              "    .dataframe thead th {\n",
              "        text-align: right;\n",
              "    }\n",
              "</style>\n",
              "<table border=\"1\" class=\"dataframe\">\n",
              "  <thead>\n",
              "    <tr style=\"text-align: right;\">\n",
              "      <th></th>\n",
              "      <th>filename</th>\n",
              "      <th>label</th>\n",
              "      <th>label_str</th>\n",
              "    </tr>\n",
              "  </thead>\n",
              "  <tbody>\n",
              "    <tr>\n",
              "      <th>0</th>\n",
              "      <td>/content/gdrive/My Drive/Project5/covid-chestx...</td>\n",
              "      <td>1</td>\n",
              "      <td>COVID-19</td>\n",
              "    </tr>\n",
              "    <tr>\n",
              "      <th>1</th>\n",
              "      <td>/content/gdrive/My Drive/Project5/covid-chestx...</td>\n",
              "      <td>1</td>\n",
              "      <td>COVID-19</td>\n",
              "    </tr>\n",
              "    <tr>\n",
              "      <th>2</th>\n",
              "      <td>/content/gdrive/My Drive/Project5/covid-chestx...</td>\n",
              "      <td>1</td>\n",
              "      <td>COVID-19</td>\n",
              "    </tr>\n",
              "    <tr>\n",
              "      <th>3</th>\n",
              "      <td>/content/gdrive/My Drive/Project5/covid-chestx...</td>\n",
              "      <td>1</td>\n",
              "      <td>COVID-19</td>\n",
              "    </tr>\n",
              "    <tr>\n",
              "      <th>4</th>\n",
              "      <td>/content/gdrive/My Drive/Project5/covid-chestx...</td>\n",
              "      <td>1</td>\n",
              "      <td>COVID-19</td>\n",
              "    </tr>\n",
              "    <tr>\n",
              "      <th>5</th>\n",
              "      <td>/content/gdrive/My Drive/Project5/covid-chestx...</td>\n",
              "      <td>1</td>\n",
              "      <td>COVID-19</td>\n",
              "    </tr>\n",
              "    <tr>\n",
              "      <th>7</th>\n",
              "      <td>/content/gdrive/My Drive/Project5/covid-chestx...</td>\n",
              "      <td>1</td>\n",
              "      <td>COVID-19</td>\n",
              "    </tr>\n",
              "    <tr>\n",
              "      <th>8</th>\n",
              "      <td>/content/gdrive/My Drive/Project5/covid-chestx...</td>\n",
              "      <td>1</td>\n",
              "      <td>COVID-19</td>\n",
              "    </tr>\n",
              "    <tr>\n",
              "      <th>20</th>\n",
              "      <td>/content/gdrive/My Drive/Project5/covid-chestx...</td>\n",
              "      <td>1</td>\n",
              "      <td>COVID-19</td>\n",
              "    </tr>\n",
              "    <tr>\n",
              "      <th>21</th>\n",
              "      <td>/content/gdrive/My Drive/Project5/covid-chestx...</td>\n",
              "      <td>1</td>\n",
              "      <td>COVID-19</td>\n",
              "    </tr>\n",
              "  </tbody>\n",
              "</table>\n",
              "</div>"
            ],
            "text/plain": [
              "                                             filename  label label_str\n",
              "0   /content/gdrive/My Drive/Project5/covid-chestx...      1  COVID-19\n",
              "1   /content/gdrive/My Drive/Project5/covid-chestx...      1  COVID-19\n",
              "2   /content/gdrive/My Drive/Project5/covid-chestx...      1  COVID-19\n",
              "3   /content/gdrive/My Drive/Project5/covid-chestx...      1  COVID-19\n",
              "4   /content/gdrive/My Drive/Project5/covid-chestx...      1  COVID-19\n",
              "5   /content/gdrive/My Drive/Project5/covid-chestx...      1  COVID-19\n",
              "7   /content/gdrive/My Drive/Project5/covid-chestx...      1  COVID-19\n",
              "8   /content/gdrive/My Drive/Project5/covid-chestx...      1  COVID-19\n",
              "20  /content/gdrive/My Drive/Project5/covid-chestx...      1  COVID-19\n",
              "21  /content/gdrive/My Drive/Project5/covid-chestx...      1  COVID-19"
            ]
          },
          "metadata": {
            "tags": []
          },
          "execution_count": 16
        }
      ]
    },
    {
      "cell_type": "markdown",
      "metadata": {
        "id": "lxnbAZSPFBTQ",
        "colab_type": "text"
      },
      "source": [
        "Now, we split the above data into training, validation and testing while maintaining the ratio of the two classes into each set. Split percentage is fetched from the configuration file. We then save the resulting csv files for the training,validation and testing dataset:"
      ]
    },
    {
      "cell_type": "code",
      "metadata": {
        "id": "RAvUkWGvEQu_",
        "colab_type": "code",
        "colab": {
          "base_uri": "https://localhost:8080/",
          "height": 119
        },
        "outputId": "8a3f4044-27ec-4245-e3b4-bd7bd5a0d23e"
      },
      "source": [
        "# Split dataset into train, val and test sets\n",
        "val_split = cfg['DATA']['VAL_SPLIT']\n",
        "test_split = cfg['DATA']['TEST_SPLIT']\n",
        "file_df_train, file_df_test = train_test_split(file_df, test_size=test_split, stratify=file_df['label'])\n",
        "relative_val_split = val_split / (1 - test_split)  # Calculate fraction of train_df to be used for validation\n",
        "file_df_train, file_df_val = train_test_split(file_df_train, test_size=relative_val_split, stratify=file_df_train['label'])\n",
        "\n",
        "print('Validation Percentage:', val_split)\n",
        "print('Test Percentage:', test_split)\n",
        "print('Relative Validation Percentage:', relative_val_split)\n",
        "\n",
        "print('Shape of Training data:',file_df_train.shape )\n",
        "print('Shape of Validation data:',file_df_val.shape )\n",
        "print('Shape of Testing data:',file_df_test.shape )\n",
        "\n",
        "# Save training, validation and test sets\n",
        "file_df_train.to_csv(cfg['PATHS']['TRAIN_SET'])\n",
        "file_df_val.to_csv(cfg['PATHS']['VAL_SET'])\n",
        "file_df_test.to_csv(cfg['PATHS']['TEST_SET'])"
      ],
      "execution_count": null,
      "outputs": [
        {
          "output_type": "stream",
          "text": [
            "Validation Percentage: 0.08\n",
            "Test Percentage: 0.1\n",
            "Relative Validation Percentage: 0.08888888888888889\n",
            "Shape of Training data: (1060, 3)\n",
            "Shape of Validation data: (104, 3)\n",
            "Shape of Testing data: (130, 3)\n"
          ],
          "name": "stdout"
        }
      ]
    },
    {
      "cell_type": "markdown",
      "metadata": {
        "id": "9SFDum5CLwXX",
        "colab_type": "text"
      },
      "source": [
        "# **2. Training**"
      ]
    },
    {
      "cell_type": "markdown",
      "metadata": {
        "id": "GEa_c8S6L9Jb",
        "colab_type": "text"
      },
      "source": [
        "We import the important libraries that are needed for the training process:"
      ]
    },
    {
      "cell_type": "code",
      "metadata": {
        "id": "MUvIa1FFBbDx",
        "colab_type": "code",
        "colab": {
          "base_uri": "https://localhost:8080/",
          "height": 105
        },
        "outputId": "f90c993d-1d0e-4d3a-8790-dfa522b84904"
      },
      "source": [
        "import datetime\n",
        "import random\n",
        "import dill\n",
        "import numpy as np\n",
        "import matplotlib.pyplot as plt\n",
        "import tensorflow.summary as tf_summary\n",
        "from imblearn.over_sampling import RandomOverSampler\n",
        "from math import ceil\n",
        "from tensorflow.keras.metrics import BinaryAccuracy, CategoricalAccuracy, Precision, Recall, AUC\n",
        "from tensorflow.keras.models import save_model\n",
        "from tensorflow.keras.callbacks import EarlyStopping, TensorBoard, ReduceLROnPlateau\n",
        "from tensorflow.keras.preprocessing.image import ImageDataGenerator\n",
        "from tensorboard.plugins.hparams import api as hp"
      ],
      "execution_count": null,
      "outputs": [
        {
          "output_type": "stream",
          "text": [
            "/usr/local/lib/python3.6/dist-packages/sklearn/externals/six.py:31: FutureWarning: The module is deprecated in version 0.21 and will be removed in version 0.23 since we've dropped support for Python 2.7. Please rely on the official version of six (https://pypi.org/project/six/).\n",
            "  \"(https://pypi.org/project/six/).\", FutureWarning)\n",
            "/usr/local/lib/python3.6/dist-packages/sklearn/utils/deprecation.py:144: FutureWarning: The sklearn.neighbors.base module is  deprecated in version 0.22 and will be removed in version 0.24. The corresponding classes / functions should instead be imported from sklearn.neighbors. Anything that cannot be imported from sklearn.neighbors is now part of the private API.\n",
            "  warnings.warn(message, FutureWarning)\n"
          ],
          "name": "stderr"
        }
      ]
    },
    {
      "cell_type": "markdown",
      "metadata": {
        "id": "DFxm4H3EUAsv",
        "colab_type": "text"
      },
      "source": [
        "Here we define the path where the log files will be generated during the training process. The logs can be visualized by running TensorBoard. Logs contain data about the experiment, such as metrics throughout the training process on the training and validation sets, and performance on the test set. "
      ]
    },
    {
      "cell_type": "code",
      "metadata": {
        "id": "0lNydFjjQ7Z-",
        "colab_type": "code",
        "colab": {
          "base_uri": "https://localhost:8080/",
          "height": 34
        },
        "outputId": "987b8782-3441-4779-9db8-9c9c7129e08f"
      },
      "source": [
        "# Set logs directory\n",
        "save_weights=True\n",
        "write_logs=True\n",
        "cur_date = datetime.datetime.now().strftime('%Y%m%d-%H%M%S')\n",
        "log_dir = cfg['PATHS']['LOGS'] + \"training\" + cur_date if write_logs else None\n",
        "if not os.path.exists(cfg['PATHS']['LOGS'] + \"training\"):\n",
        "    os.makedirs(cfg['PATHS']['LOGS'] + \"training\")\n",
        "\n",
        "print('The log files dierctory:',log_dir)"
      ],
      "execution_count": null,
      "outputs": [
        {
          "output_type": "stream",
          "text": [
            "The log files dierctory: /content/gdrive/My Drive/Project5/covid-cxr-master/results/logs/training20200424-062039\n"
          ],
          "name": "stdout"
        }
      ]
    },
    {
      "cell_type": "markdown",
      "metadata": {
        "id": "MvkB7AiFcT5l",
        "colab_type": "text"
      },
      "source": [
        "We create a dictionary called data and save our training,validation and testing metadata tables in them:"
      ]
    },
    {
      "cell_type": "code",
      "metadata": {
        "id": "-Nj66sSSRIe4",
        "colab_type": "code",
        "colab": {}
      },
      "source": [
        "# Load dataset file paths and labels\n",
        "data = {} \n",
        "data['TRAIN'] = file_df_train\n",
        "data['VAL'] = file_df_val\n",
        "data['TEST'] = file_df_test"
      ],
      "execution_count": null,
      "outputs": []
    },
    {
      "cell_type": "markdown",
      "metadata": {
        "id": "c0g49c3rje0A",
        "colab_type": "text"
      },
      "source": [
        "We create the callbacks which we want to use during the training process. We monitor the validation loss if it stops decreasing (and thus the mode='min'). Patience is the number of epochs that produced the monitored quantity with no improvement after which training will be stopped. The best weights during the last #patience epochs will be restored."
      ]
    },
    {
      "cell_type": "code",
      "metadata": {
        "id": "_1VleaCQReeb",
        "colab_type": "code",
        "colab": {
          "base_uri": "https://localhost:8080/",
          "height": 34
        },
        "outputId": "23652302-5a8c-435f-bea6-bfacaa5441a8"
      },
      "source": [
        "# Set callbacks.\n",
        "early_stopping = EarlyStopping(monitor='val_loss', verbose=1, patience=cfg['TRAIN']['PATIENCE'], mode='min', restore_best_weights=True)\n",
        "callbacks = [early_stopping]\n",
        "print('Patience: ', cfg['TRAIN']['PATIENCE'])"
      ],
      "execution_count": null,
      "outputs": [
        {
          "output_type": "stream",
          "text": [
            "Patience:  7\n"
          ],
          "name": "stdout"
        }
      ]
    },
    {
      "cell_type": "markdown",
      "metadata": {
        "id": "M3IRB28Aoogy",
        "colab_type": "text"
      },
      "source": [
        "Here we append tensorboard to our previosuly created callback list."
      ]
    },
    {
      "cell_type": "code",
      "metadata": {
        "id": "4nEqYKOPktNt",
        "colab_type": "code",
        "colab": {}
      },
      "source": [
        "if write_logs:\n",
        "  tensorboard = TensorBoard(log_dir=log_dir, histogram_freq=1)\n",
        "  callbacks.append(tensorboard)"
      ],
      "execution_count": null,
      "outputs": []
    },
    {
      "cell_type": "markdown",
      "metadata": {
        "id": "3yeADgN33f1Y",
        "colab_type": "text"
      },
      "source": [
        "Now we define a function, called remove_text to remove some of the artifact texts on some of the xrays. For example, white bright R and L letters are usually printed on the Xray indication the side of the body (left, right). We can test this function as shown below:"
      ]
    },
    {
      "cell_type": "code",
      "metadata": {
        "id": "09FKZ6YFuMth",
        "colab_type": "code",
        "colab": {}
      },
      "source": [
        "def remove_text(img):\n",
        "    '''\n",
        "    Attempts to remove bright textual artifacts from X-ray images. For example, many images indicate the right side of\n",
        "    the body with a white 'R'. Works only for very bright text.\n",
        "    :param img: Numpy array of image\n",
        "    :return: Array of image with (ideally) any characters removed and inpainted\n",
        "    '''\n",
        "    mask = cv2.threshold(img, 230, 255, cv2.THRESH_BINARY)[1][:, :, 0].astype(np.uint8)\n",
        "    img = img.astype(np.uint8)\n",
        "    result = cv2.inpaint(img, mask, 10, cv2.INPAINT_NS).astype(np.float32)\n",
        "    return result"
      ],
      "execution_count": null,
      "outputs": []
    },
    {
      "cell_type": "markdown",
      "metadata": {
        "id": "Qmar4XLruMkQ",
        "colab_type": "text"
      },
      "source": [
        "Test the remove_text function on an XRay that has an artifcat writing on it:"
      ]
    },
    {
      "cell_type": "code",
      "metadata": {
        "id": "VXcsI7CxwTWB",
        "colab_type": "code",
        "colab": {
          "base_uri": "https://localhost:8080/",
          "height": 235
        },
        "outputId": "d7c465c2-98ee-426b-fd22-f954dac98b1e"
      },
      "source": [
        "import glob\n",
        "import matplotlib.pyplot as plt\n",
        "\n",
        "cv_img = []\n",
        "path= glob.glob(data['TRAIN'].values[987][0])\n",
        "path=path[0]\n",
        "img = cv2.imread(path)\n",
        "img_rmv=remove_text(img)\n",
        "\n",
        "fig=plt.figure(figsize=(8, 8))\n",
        "columns = 2\n",
        "rows = 1\n",
        "fig.add_subplot(rows, columns, 1)\n",
        "plt.imshow(img)\n",
        "fig.add_subplot(rows, columns, 2)\n",
        "plt.imshow(img_rmv.astype(np.uint8))\n",
        "\n"
      ],
      "execution_count": null,
      "outputs": [
        {
          "output_type": "execute_result",
          "data": {
            "text/plain": [
              "<matplotlib.image.AxesImage at 0x7f01658c97b8>"
            ]
          },
          "metadata": {
            "tags": []
          },
          "execution_count": 73
        },
        {
          "output_type": "display_data",
          "data": {
            "image/png": "[encoded data removed]",
            "text/plain": [
              "<Figure size 576x576 with 2 Axes>"
            ]
          },
          "metadata": {
            "tags": [],
            "needs_background": "light"
          }
        }
      ]
    },
    {
      "cell_type": "markdown",
      "metadata": {
        "id": "hCQCRxkDJxBP",
        "colab_type": "text"
      },
      "source": [
        "Now we create the image generators for the training, validation, and testing sets:"
      ]
    },
    {
      "cell_type": "code",
      "metadata": {
        "id": "F87R3CM3o2ri",
        "colab_type": "code",
        "colab": {}
      },
      "source": [
        "# Create ImageDataGenerators\n",
        "train_img_gen = ImageDataGenerator(rotation_range=10, preprocessing_function=remove_text,\n",
        "                                    samplewise_std_normalization=True, samplewise_center=True)\n",
        "val_img_gen = ImageDataGenerator(preprocessing_function=remove_text,\n",
        "                                    samplewise_std_normalization=True, samplewise_center=True)\n",
        "test_img_gen = ImageDataGenerator(preprocessing_function=remove_text,\n",
        "                                    samplewise_std_normalization=True, samplewise_center=True)\n"
      ],
      "execution_count": null,
      "outputs": []
    },
    {
      "cell_type": "markdown",
      "metadata": {
        "id": "U5ClilFYSk--",
        "colab_type": "text"
      },
      "source": [
        "Using the image generators that we created, now we create dataframe iterators for the training, validation, and testing sets:"
      ]
    },
    {
      "cell_type": "code",
      "metadata": {
        "id": "n5QUT8_PRCUH",
        "colab_type": "code",
        "colab": {
          "base_uri": "https://localhost:8080/",
          "height": 68
        },
        "outputId": "3e97ec1c-3626-4e8f-b219-7304440a62b3"
      },
      "source": [
        "# Create DataFrameIterators\n",
        "img_shape = tuple(cfg['DATA']['IMG_DIM'])\n",
        "y_col = 'label_str'\n",
        "class_mode = 'categorical'\n",
        "train_generator = train_img_gen.flow_from_dataframe(dataframe=data['TRAIN'], directory=None,\n",
        "    x_col=\"filename\", y_col=y_col, target_size=img_shape, batch_size=cfg['TRAIN']['BATCH_SIZE'], class_mode=class_mode)\n",
        "val_generator = val_img_gen.flow_from_dataframe(dataframe=data['VAL'], directory=None,\n",
        "    x_col=\"filename\", y_col=y_col, target_size=img_shape, batch_size=cfg['TRAIN']['BATCH_SIZE'], class_mode=class_mode)\n",
        "test_generator = test_img_gen.flow_from_dataframe(dataframe=data['TEST'], directory=None,\n",
        "    x_col=\"filename\", y_col=y_col, target_size=img_shape, batch_size=cfg['TRAIN']['BATCH_SIZE'], class_mode=class_mode,\n",
        "    shuffle=False)"
      ],
      "execution_count": null,
      "outputs": [
        {
          "output_type": "stream",
          "text": [
            "Found 1060 validated image filenames belonging to 2 classes.\n",
            "Found 104 validated image filenames belonging to 2 classes.\n",
            "Found 130 validated image filenames belonging to 2 classes.\n"
          ],
          "name": "stdout"
        }
      ]
    },
    {
      "cell_type": "markdown",
      "metadata": {
        "id": "-Z74NC5ZS-8V",
        "colab_type": "text"
      },
      "source": [
        "Saving the model class_indicies in .pkl format. This will be used later on. We print class_indicies for demonstration."
      ]
    },
    {
      "cell_type": "code",
      "metadata": {
        "id": "ujCRkFwgS_Em",
        "colab_type": "code",
        "colab": {
          "base_uri": "https://localhost:8080/",
          "height": 34
        },
        "outputId": "4067eb3b-b511-47be-9813-9480552aa08d"
      },
      "source": [
        "# Save model's ordering of class indices\n",
        "dill.dump(test_generator.class_indices, open(cfg['PATHS']['OUTPUT_CLASS_INDICES'], 'wb'))\n",
        "print(test_generator.class_indices)"
      ],
      "execution_count": null,
      "outputs": [
        {
          "output_type": "stream",
          "text": [
            "{'COVID-19': 0, 'non-COVID-19': 1}\n"
          ],
          "name": "stdout"
        }
      ]
    },
    {
      "cell_type": "markdown",
      "metadata": {
        "id": "KFcD2JqXX0lQ",
        "colab_type": "text"
      },
      "source": [
        "As mentioned before, the data we have is skewed since we have many more non COVID-19 cases vs COVID-19 cases. Thus, we create a class_weight vector the penalizes COVID-19 misclassification much more. We further tweak the class weight using the class multiplier which gives further control on the penalty (in addition to the calculated weights)."
      ]
    },
    {
      "cell_type": "code",
      "metadata": {
        "id": "80UPFL-6X0rZ",
        "colab_type": "code",
        "colab": {
          "base_uri": "https://localhost:8080/",
          "height": 85
        },
        "outputId": "b5cae49e-aa10-4616-d89d-9dc9fa87baea"
      },
      "source": [
        "# Apply class imbalance strategy. We have many more X-rays negative for COVID-19 than positive.\n",
        "\n",
        "# Get class mutliplier [the tweaking part]\n",
        "class_multiplier = cfg['TRAIN']['CLASS_MULTIPLIER']\n",
        "class_multiplier = [class_multiplier[cfg['DATA']['CLASSES'].index(c)] for c in test_generator.class_indices]\n",
        "print('Class Multiplier:', class_multiplier)\n",
        "\n",
        "#get the actual class weights\n",
        "class_weight = None\n",
        "histogram = np.bincount(np.array(train_generator.labels).astype(int))  # Get class distribution\n",
        "print('COVID-19 cases vs Non COVID-19 in the training set:', histogram)\n",
        "\n",
        "\n",
        "weights = [None] * len(histogram)\n",
        "for i in range(len(histogram)):\n",
        "    weights[i] = (1.0 / len(histogram)) * sum(histogram) / histogram[i]\n",
        "class_weight_d = {i: weights[i] for i in range(len(histogram))}\n",
        "print('Class weights before class multiplier: ', weights)\n",
        "class_weight = [class_weight_d[i] * class_multiplier[i] for i in range(len(histogram))]\n",
        "print('Class weights after class multiplier: ', class_weight)"
      ],
      "execution_count": null,
      "outputs": [
        {
          "output_type": "stream",
          "text": [
            "Class Multiplier: [1.0, 0.15]\n",
            "COVID-19 cases vs Non COVID-19 in the training set: [185 875]\n",
            "Class weights before class multiplier:  [2.864864864864865, 0.6057142857142858]\n",
            "Class weights after class multiplier:  [2.864864864864865, 0.09085714285714286]\n"
          ],
          "name": "stdout"
        }
      ]
    },
    {
      "cell_type": "markdown",
      "metadata": {
        "id": "RXEz3OnDtR5m",
        "colab_type": "text"
      },
      "source": [
        "F1 Score metric is defined to be used as part of the needed metrics"
      ]
    },
    {
      "cell_type": "code",
      "metadata": {
        "id": "Ym9p8CeJtSC1",
        "colab_type": "code",
        "colab": {}
      },
      "source": [
        "import numpy as np\n",
        "from tensorflow.keras.metrics import Metric, Precision, Recall\n",
        "from tensorflow.python.keras.utils import metrics_utils\n",
        "from tensorflow.python.ops import init_ops\n",
        "from tensorflow.python.ops import math_ops\n",
        "from tensorflow.python.keras.utils.generic_utils import to_list\n",
        "from tensorflow.python.keras import backend as K\n",
        "\n",
        "class F1Score(Metric):\n",
        "    '''\n",
        "    Custom tf.keras metric that calculates the F1 Score\n",
        "    '''\n",
        "\n",
        "    def __init__(self, thresholds=None, top_k=None, class_id=None, name=None, dtype=None):\n",
        "        '''\n",
        "        Creates an instance of the  F1Score class\n",
        "        :param thresholds: A float value or a python list/tuple of float threshold values in [0, 1].\n",
        "        :param top_k: An int value specifying the top-k predictions to consider when calculating precision\n",
        "        :param class_id: Integer class ID for which we want binary metrics. This must be in the half-open interval\n",
        "                `[0, num_classes)`, where `num_classes` is the last dimension of predictions\n",
        "        :param name: string name of the metric instance\n",
        "        :param dtype: data type of the metric result\n",
        "        '''\n",
        "        super(F1Score, self).__init__(name=name, dtype=dtype)\n",
        "        self.init_thresholds = thresholds\n",
        "        self.top_k = top_k\n",
        "        self.class_id = class_id\n",
        "\n",
        "        default_threshold = 0.5 if top_k is None else metrics_utils.NEG_INF\n",
        "        self.thresholds = metrics_utils.parse_init_thresholds(\n",
        "            thresholds, default_threshold=default_threshold)\n",
        "        self.true_positives = self.add_weight('true_positives', shape=(len(self.thresholds),),\n",
        "                                              initializer=init_ops.zeros_initializer)\n",
        "        self.false_positives = self.add_weight('false_positives', shape=(len(self.thresholds),),\n",
        "                                               initializer=init_ops.zeros_initializer)\n",
        "        self.false_negatives = self.add_weight('false_negatives', shape=(len(self.thresholds),),\n",
        "                                               initializer=init_ops.zeros_initializer)\n",
        "\n",
        "    def update_state(self, y_true, y_pred, sample_weight=None):\n",
        "        '''\n",
        "        Accumulates true positive, false positive and false negative statistics.\n",
        "        :param y_true: The ground truth values, with the same dimensions as `y_pred`. Will be cast to `bool`\n",
        "        :param y_pred: The predicted values. Each element must be in the range `[0, 1]`\n",
        "        :param sample_weight: Weighting of each example. Defaults to 1. Can be a `Tensor` whose rank is either 0,\n",
        "               or the same rank as `y_true`, and must be broadcastable to `y_true`\n",
        "        :return: Update operation\n",
        "        '''\n",
        "        metrics_utils.update_confusion_matrix_variables(\n",
        "            {\n",
        "                metrics_utils.ConfusionMatrix.TRUE_POSITIVES: self.true_positives,\n",
        "                metrics_utils.ConfusionMatrix.FALSE_POSITIVES: self.false_positives,\n",
        "                metrics_utils.ConfusionMatrix.FALSE_NEGATIVES: self.false_negatives\n",
        "            },\n",
        "            y_true, y_pred, thresholds=self.thresholds, top_k=self.top_k, class_id=self.class_id,\n",
        "            sample_weight=sample_weight)\n",
        "\n",
        "\n",
        "    def result(self):\n",
        "        '''\n",
        "        Compute the value for the F1 score. Calculates precision and recall, then F1 score.\n",
        "        F1 = 2 * precision * recall / (precision + recall)\n",
        "        :return: F1 score\n",
        "        '''\n",
        "        precision = math_ops.div_no_nan(self.true_positives, self.true_positives + self.false_positives)\n",
        "        recall = math_ops.div_no_nan(self.true_positives, self.true_positives + self.false_negatives)\n",
        "        result = math_ops.div_no_nan(2 * precision * recall, precision + recall)\n",
        "        return result[0] if len(self.thresholds) == 1 else result\n",
        "\n",
        "    def reset_states(self):\n",
        "        '''\n",
        "        Resets all of the metric state variables. Called between epochs, when a metric is evaluated during training.\n",
        "        '''\n",
        "        num_thresholds = len(to_list(self.thresholds))\n",
        "        K.batch_set_value(\n",
        "            [(v, np.zeros((num_thresholds,))) for v in self.variables])\n",
        "\n",
        "    def get_config(self):\n",
        "        '''\n",
        "        Returns the serializable config of the metric.\n",
        "        :return: serializable config of the metric\n",
        "        '''\n",
        "        config = {\n",
        "            'thresholds': self.init_thresholds,\n",
        "            'top_k': self.top_k,\n",
        "            'class_id': self.class_id\n",
        "        }\n",
        "        base_config = super(F1Score, self).get_config()\n",
        "        return dict(list(base_config.items()) + list(config.items()))"
      ],
      "execution_count": null,
      "outputs": []
    },
    {
      "cell_type": "markdown",
      "metadata": {
        "id": "MgBro5BLjeaB",
        "colab_type": "text"
      },
      "source": [
        "Define all the metrics that will be used to evaluate the model. Since the data is skewed, accuracy is not an enough metric. Other metrics such as Precision, Recall, AUC and F1Score are needed. Since this classification is binary, the threshold is 0.5."
      ]
    },
    {
      "cell_type": "code",
      "metadata": {
        "id": "khsnc-lBox_r",
        "colab_type": "code",
        "colab": {}
      },
      "source": [
        "# Define metrics.\n",
        "covid_class_idx = test_generator.class_indices['COVID-19']   # Get index of COVID-19 class\n",
        "thresholds = 1.0 / len(cfg['DATA']['CLASSES'])      # Binary classification threshold for a class\n",
        "metrics = [CategoricalAccuracy(name='accuracy'),\n",
        "            Precision(name='precision', thresholds=thresholds, class_id=covid_class_idx),\n",
        "            Recall(name='recall', thresholds=thresholds, class_id=covid_class_idx),\n",
        "            AUC(name='auc'),\n",
        "            F1Score(name='f1score', thresholds=thresholds, class_id=covid_class_idx)]"
      ],
      "execution_count": null,
      "outputs": []
    },
    {
      "cell_type": "markdown",
      "metadata": {
        "id": "x6C6emPbpjKA",
        "colab_type": "text"
      },
      "source": [
        "Since we will choose RESNET50v2 as the model to be used, we define this model under this function to be handy to use. We use a pretrained version of ResNet50V2 and import its weights. Those weights were obtained after training the ResNet50v2 on \"imagenet\" dataset. So in short we are using \"Transfer Learning\". We add few layers at the end that will be trained to tailor the network to COVID-19 X-ray classification."
      ]
    },
    {
      "cell_type": "code",
      "metadata": {
        "id": "cbqOd3lapjVT",
        "colab_type": "code",
        "colab": {}
      },
      "source": [
        "from tensorflow.keras import Sequential, Model\n",
        "from tensorflow.keras.layers import Dense, Dropout, Input, MaxPool2D, Conv2D, Flatten, LeakyReLU, BatchNormalization, \\\n",
        "    Activation, concatenate, GlobalAveragePooling2D\n",
        "from tensorflow.keras.regularizers import l2\n",
        "from tensorflow.keras.optimizers import Adam, SGD\n",
        "from tensorflow.keras.initializers import Constant\n",
        "from tensorflow.keras.applications.resnet_v2 import ResNet50V2, ResNet101V2\n",
        "from tensorflow.keras.utils import multi_gpu_model\n",
        "def resnet50v2(model_config, input_shape, metrics, n_classes=2, output_bias=None, gpus=1):\n",
        "    '''\n",
        "    Defines a model based on a pretrained ResNet50V2 for multiclass X-ray classification.\n",
        "    :param model_config: A dictionary of parameters associated with the model architecture\n",
        "    :param input_shape: The shape of the model input\n",
        "    :param metrics: Metrics to track model's performance\n",
        "    :return: a Keras Model object with the architecture defined in this method\n",
        "    '''\n",
        "\n",
        "    # Set hyperparameters\n",
        "    nodes_dense0 = model_config['NODES_DENSE0']\n",
        "    lr = model_config['LR']\n",
        "    dropout = model_config['DROPOUT']\n",
        "    l2_lambda = model_config['L2_LAMBDA']\n",
        "    if model_config['OPTIMIZER'] == 'adam':\n",
        "        optimizer = Adam(learning_rate=lr)\n",
        "    elif model_config['OPTIMIZER'] == 'sgd':\n",
        "        optimizer = SGD(learning_rate=lr)\n",
        "    else:\n",
        "        optimizer = Adam(learning_rate=lr)  # For now, Adam is default option\n",
        "\n",
        "    # Set output bias\n",
        "    if output_bias is not None:\n",
        "        output_bias = Constant(output_bias)\n",
        "    print(\"MODEL CONFIG: \", model_config)\n",
        "\n",
        "    # Start with pretrained ResNet50V2\n",
        "    pretrained_resnet = ResNet50V2(include_top=False, weights='imagenet', input_shape=input_shape)\n",
        "    X = pretrained_resnet.output\n",
        "\n",
        "    # Add custom top\n",
        "    X = GlobalAveragePooling2D()(X)\n",
        "    X = Dropout(dropout)(X)\n",
        "    X = Dense(nodes_dense0, kernel_initializer='he_uniform', activity_regularizer=l2(l2_lambda))(X)\n",
        "    X = LeakyReLU()(X)\n",
        "    X = Dense(n_classes, bias_initializer=output_bias)(X)\n",
        "    Y = Activation('softmax', dtype='float32', name='output')(X)\n",
        "\n",
        "    # Set model loss function, optimizer, metrics.\n",
        "    model = Model(inputs=pretrained_resnet.input, outputs=Y)\n",
        "    if gpus >= 2:\n",
        "        model = multi_gpu_model(model, gpus=gpus)\n",
        "    model.compile(loss='categorical_crossentropy', optimizer=optimizer, metrics=metrics)\n",
        "    model.summary()\n",
        "    return model"
      ],
      "execution_count": null,
      "outputs": []
    },
    {
      "cell_type": "markdown",
      "metadata": {
        "id": "2Kqge_FAnd2q",
        "colab_type": "text"
      },
      "source": [
        "Here, the model parameters are defined. cfg['NN']['DCNN_BINARY'] defines all the neural network related parameters including the stride,filters, kernels, learning rate, optimizer, dropout, etc. The model summary is printed with all its relevant parameters"
      ]
    },
    {
      "cell_type": "code",
      "metadata": {
        "id": "W49JKQz5oz1n",
        "colab_type": "code",
        "colab": {
          "base_uri": "https://localhost:8080/",
          "height": 1000
        },
        "outputId": "4fbda025-5bfe-4f22-ea7c-d72bae460080"
      },
      "source": [
        "# Define the model.\n",
        "print('Training distribution: ', ['Class ' + list(test_generator.class_indices.keys())[i] + ': ' + str(histogram[i]) + '. '\n",
        "        for i in range(len(histogram))])  #printing histogram values for each class\n",
        "input_shape = cfg['DATA']['IMG_DIM'] + [3] #adding the third dimention for channel (RGB)\n",
        "print('Input Shape:', input_shape)\n",
        "num_gpus = cfg['TRAIN']['NUM_GPUS']\n",
        "print('Number of GPUs: ', num_gpus)\n",
        "model_def = resnet50v2\n",
        "\n",
        "histogram = np.bincount(data['TRAIN']['label'].astype(int))\n",
        "print('Histogram info: ', histogram)\n",
        "output_bias = np.log([histogram[i] / (np.sum(histogram) - histogram[i]) for i in range(histogram.shape[0])])\n",
        "print('Output Bias: ', output_bias)\n",
        "model = model_def(cfg['NN']['DCNN_BINARY'], input_shape, metrics, 2, output_bias=output_bias, gpus=num_gpus)\n"
      ],
      "execution_count": null,
      "outputs": [
        {
          "output_type": "stream",
          "text": [
            "Training distribution:  ['Class COVID-19: 185. ', 'Class non-COVID-19: 875. ']\n",
            "Input Shape: [224, 224, 3]\n",
            "Number of GPUs:  1\n",
            "Histogram info:  [875 185]\n",
            "Output Bias:  [ 1.55386806 -1.55386806]\n",
            "MODEL CONFIG:  {'KERNEL_SIZE': '(3,3)', 'STRIDES': '(1,1)', 'INIT_FILTERS': 16, 'FILTER_EXP_BASE': 3, 'MAXPOOL_SIZE': '(2,2)', 'CONV_BLOCKS': 3, 'NODES_DENSE0': 128, 'LR': 0.0003, 'OPTIMIZER': 'adam', 'DROPOUT': 0.4, 'L2_LAMBDA': 0.0001}\n",
            "Downloading data from https://storage.googleapis.com/tensorflow/keras-applications/resnet/resnet50v2_weights_tf_dim_ordering_tf_kernels_notop.h5\n",
            "94674944/94668760 [==============================] - 2s 0us/step\n",
            "Model: \"model\"\n",
            "__________________________________________________________________________________________________\n",
            "Layer (type)                    Output Shape         Param #     Connected to                     \n",
            "==================================================================================================\n",
            "input_1 (InputLayer)            [(None, 224, 224, 3) 0                                            \n",
            "__________________________________________________________________________________________________\n",
            "conv1_pad (ZeroPadding2D)       (None, 230, 230, 3)  0           input_1[0][0]                    \n",
            "__________________________________________________________________________________________________\n",
            "conv1_conv (Conv2D)             (None, 112, 112, 64) 9472        conv1_pad[0][0]                  \n",
            "__________________________________________________________________________________________________\n",
            "pool1_pad (ZeroPadding2D)       (None, 114, 114, 64) 0           conv1_conv[0][0]                 \n",
            "__________________________________________________________________________________________________\n",
            "pool1_pool (MaxPooling2D)       (None, 56, 56, 64)   0           pool1_pad[0][0]                  \n",
            "__________________________________________________________________________________________________\n",
            "conv2_block1_preact_bn (BatchNo (None, 56, 56, 64)   256         pool1_pool[0][0]                 \n",
            "__________________________________________________________________________________________________\n",
            "conv2_block1_preact_relu (Activ (None, 56, 56, 64)   0           conv2_block1_preact_bn[0][0]     \n",
            "__________________________________________________________________________________________________\n",
            "conv2_block1_1_conv (Conv2D)    (None, 56, 56, 64)   4096        conv2_block1_preact_relu[0][0]   \n",
            "__________________________________________________________________________________________________\n",
            "conv2_block1_1_bn (BatchNormali (None, 56, 56, 64)   256         conv2_block1_1_conv[0][0]        \n",
            "__________________________________________________________________________________________________\n",
            "conv2_block1_1_relu (Activation (None, 56, 56, 64)   0           conv2_block1_1_bn[0][0]          \n",
            "__________________________________________________________________________________________________\n",
            "conv2_block1_2_pad (ZeroPadding (None, 58, 58, 64)   0           conv2_block1_1_relu[0][0]        \n",
            "__________________________________________________________________________________________________\n",
            "conv2_block1_2_conv (Conv2D)    (None, 56, 56, 64)   36864       conv2_block1_2_pad[0][0]         \n",
            "__________________________________________________________________________________________________\n",
            "conv2_block1_2_bn (BatchNormali (None, 56, 56, 64)   256         conv2_block1_2_conv[0][0]        \n",
            "__________________________________________________________________________________________________\n",
            "conv2_block1_2_relu (Activation (None, 56, 56, 64)   0           conv2_block1_2_bn[0][0]          \n",
            "__________________________________________________________________________________________________\n",
            "conv2_block1_0_conv (Conv2D)    (None, 56, 56, 256)  16640       conv2_block1_preact_relu[0][0]   \n",
            "__________________________________________________________________________________________________\n",
            "conv2_block1_3_conv (Conv2D)    (None, 56, 56, 256)  16640       conv2_block1_2_relu[0][0]        \n",
            "__________________________________________________________________________________________________\n",
            "conv2_block1_out (Add)          (None, 56, 56, 256)  0           conv2_block1_0_conv[0][0]        \n",
            "                                                                 conv2_block1_3_conv[0][0]        \n",
            "__________________________________________________________________________________________________\n",
            "conv2_block2_preact_bn (BatchNo (None, 56, 56, 256)  1024        conv2_block1_out[0][0]           \n",
            "__________________________________________________________________________________________________\n",
            "conv2_block2_preact_relu (Activ (None, 56, 56, 256)  0           conv2_block2_preact_bn[0][0]     \n",
            "__________________________________________________________________________________________________\n",
            "conv2_block2_1_conv (Conv2D)    (None, 56, 56, 64)   16384       conv2_block2_preact_relu[0][0]   \n",
            "__________________________________________________________________________________________________\n",
            "conv2_block2_1_bn (BatchNormali (None, 56, 56, 64)   256         conv2_block2_1_conv[0][0]        \n",
            "__________________________________________________________________________________________________\n",
            "conv2_block2_1_relu (Activation (None, 56, 56, 64)   0           conv2_block2_1_bn[0][0]          \n",
            "__________________________________________________________________________________________________\n",
            "conv2_block2_2_pad (ZeroPadding (None, 58, 58, 64)   0           conv2_block2_1_relu[0][0]        \n",
            "__________________________________________________________________________________________________\n",
            "conv2_block2_2_conv (Conv2D)    (None, 56, 56, 64)   36864       conv2_block2_2_pad[0][0]         \n",
            "__________________________________________________________________________________________________\n",
            "conv2_block2_2_bn (BatchNormali (None, 56, 56, 64)   256         conv2_block2_2_conv[0][0]        \n",
            "__________________________________________________________________________________________________\n",
            "conv2_block2_2_relu (Activation (None, 56, 56, 64)   0           conv2_block2_2_bn[0][0]          \n",
            "__________________________________________________________________________________________________\n",
            "conv2_block2_3_conv (Conv2D)    (None, 56, 56, 256)  16640       conv2_block2_2_relu[0][0]        \n",
            "__________________________________________________________________________________________________\n",
            "conv2_block2_out (Add)          (None, 56, 56, 256)  0           conv2_block1_out[0][0]           \n",
            "                                                                 conv2_block2_3_conv[0][0]        \n",
            "__________________________________________________________________________________________________\n",
            "conv2_block3_preact_bn (BatchNo (None, 56, 56, 256)  1024        conv2_block2_out[0][0]           \n",
            "__________________________________________________________________________________________________\n",
            "conv2_block3_preact_relu (Activ (None, 56, 56, 256)  0           conv2_block3_preact_bn[0][0]     \n",
            "__________________________________________________________________________________________________\n",
            "conv2_block3_1_conv (Conv2D)    (None, 56, 56, 64)   16384       conv2_block3_preact_relu[0][0]   \n",
            "__________________________________________________________________________________________________\n",
            "conv2_block3_1_bn (BatchNormali (None, 56, 56, 64)   256         conv2_block3_1_conv[0][0]        \n",
            "__________________________________________________________________________________________________\n",
            "conv2_block3_1_relu (Activation (None, 56, 56, 64)   0           conv2_block3_1_bn[0][0]          \n",
            "__________________________________________________________________________________________________\n",
            "conv2_block3_2_pad (ZeroPadding (None, 58, 58, 64)   0           conv2_block3_1_relu[0][0]        \n",
            "__________________________________________________________________________________________________\n",
            "conv2_block3_2_conv (Conv2D)    (None, 28, 28, 64)   36864       conv2_block3_2_pad[0][0]         \n",
            "__________________________________________________________________________________________________\n",
            "conv2_block3_2_bn (BatchNormali (None, 28, 28, 64)   256         conv2_block3_2_conv[0][0]        \n",
            "__________________________________________________________________________________________________\n",
            "conv2_block3_2_relu (Activation (None, 28, 28, 64)   0           conv2_block3_2_bn[0][0]          \n",
            "__________________________________________________________________________________________________\n",
            "max_pooling2d (MaxPooling2D)    (None, 28, 28, 256)  0           conv2_block2_out[0][0]           \n",
            "__________________________________________________________________________________________________\n",
            "conv2_block3_3_conv (Conv2D)    (None, 28, 28, 256)  16640       conv2_block3_2_relu[0][0]        \n",
            "__________________________________________________________________________________________________\n",
            "conv2_block3_out (Add)          (None, 28, 28, 256)  0           max_pooling2d[0][0]              \n",
            "                                                                 conv2_block3_3_conv[0][0]        \n",
            "__________________________________________________________________________________________________\n",
            "conv3_block1_preact_bn (BatchNo (None, 28, 28, 256)  1024        conv2_block3_out[0][0]           \n",
            "__________________________________________________________________________________________________\n",
            "conv3_block1_preact_relu (Activ (None, 28, 28, 256)  0           conv3_block1_preact_bn[0][0]     \n",
            "__________________________________________________________________________________________________\n",
            "conv3_block1_1_conv (Conv2D)    (None, 28, 28, 128)  32768       conv3_block1_preact_relu[0][0]   \n",
            "__________________________________________________________________________________________________\n",
            "conv3_block1_1_bn (BatchNormali (None, 28, 28, 128)  512         conv3_block1_1_conv[0][0]        \n",
            "__________________________________________________________________________________________________\n",
            "conv3_block1_1_relu (Activation (None, 28, 28, 128)  0           conv3_block1_1_bn[0][0]          \n",
            "__________________________________________________________________________________________________\n",
            "conv3_block1_2_pad (ZeroPadding (None, 30, 30, 128)  0           conv3_block1_1_relu[0][0]        \n",
            "__________________________________________________________________________________________________\n",
            "conv3_block1_2_conv (Conv2D)    (None, 28, 28, 128)  147456      conv3_block1_2_pad[0][0]         \n",
            "__________________________________________________________________________________________________\n",
            "conv3_block1_2_bn (BatchNormali (None, 28, 28, 128)  512         conv3_block1_2_conv[0][0]        \n",
            "__________________________________________________________________________________________________\n",
            "conv3_block1_2_relu (Activation (None, 28, 28, 128)  0           conv3_block1_2_bn[0][0]          \n",
            "__________________________________________________________________________________________________\n",
            "conv3_block1_0_conv (Conv2D)    (None, 28, 28, 512)  131584      conv3_block1_preact_relu[0][0]   \n",
            "__________________________________________________________________________________________________\n",
            "conv3_block1_3_conv (Conv2D)    (None, 28, 28, 512)  66048       conv3_block1_2_relu[0][0]        \n",
            "__________________________________________________________________________________________________\n",
            "conv3_block1_out (Add)          (None, 28, 28, 512)  0           conv3_block1_0_conv[0][0]        \n",
            "                                                                 conv3_block1_3_conv[0][0]        \n",
            "__________________________________________________________________________________________________\n",
            "conv3_block2_preact_bn (BatchNo (None, 28, 28, 512)  2048        conv3_block1_out[0][0]           \n",
            "__________________________________________________________________________________________________\n",
            "conv3_block2_preact_relu (Activ (None, 28, 28, 512)  0           conv3_block2_preact_bn[0][0]     \n",
            "__________________________________________________________________________________________________\n",
            "conv3_block2_1_conv (Conv2D)    (None, 28, 28, 128)  65536       conv3_block2_preact_relu[0][0]   \n",
            "__________________________________________________________________________________________________\n",
            "conv3_block2_1_bn (BatchNormali (None, 28, 28, 128)  512         conv3_block2_1_conv[0][0]        \n",
            "__________________________________________________________________________________________________\n",
            "conv3_block2_1_relu (Activation (None, 28, 28, 128)  0           conv3_block2_1_bn[0][0]          \n",
            "__________________________________________________________________________________________________\n",
            "conv3_block2_2_pad (ZeroPadding (None, 30, 30, 128)  0           conv3_block2_1_relu[0][0]        \n",
            "__________________________________________________________________________________________________\n",
            "conv3_block2_2_conv (Conv2D)    (None, 28, 28, 128)  147456      conv3_block2_2_pad[0][0]         \n",
            "__________________________________________________________________________________________________\n",
            "conv3_block2_2_bn (BatchNormali (None, 28, 28, 128)  512         conv3_block2_2_conv[0][0]        \n",
            "__________________________________________________________________________________________________\n",
            "conv3_block2_2_relu (Activation (None, 28, 28, 128)  0           conv3_block2_2_bn[0][0]          \n",
            "__________________________________________________________________________________________________\n",
            "conv3_block2_3_conv (Conv2D)    (None, 28, 28, 512)  66048       conv3_block2_2_relu[0][0]        \n",
            "__________________________________________________________________________________________________\n",
            "conv3_block2_out (Add)          (None, 28, 28, 512)  0           conv3_block1_out[0][0]           \n",
            "                                                                 conv3_block2_3_conv[0][0]        \n",
            "__________________________________________________________________________________________________\n",
            "conv3_block3_preact_bn (BatchNo (None, 28, 28, 512)  2048        conv3_block2_out[0][0]           \n",
            "__________________________________________________________________________________________________\n",
            "conv3_block3_preact_relu (Activ (None, 28, 28, 512)  0           conv3_block3_preact_bn[0][0]     \n",
            "__________________________________________________________________________________________________\n",
            "conv3_block3_1_conv (Conv2D)    (None, 28, 28, 128)  65536       conv3_block3_preact_relu[0][0]   \n",
            "__________________________________________________________________________________________________\n",
            "conv3_block3_1_bn (BatchNormali (None, 28, 28, 128)  512         conv3_block3_1_conv[0][0]        \n",
            "__________________________________________________________________________________________________\n",
            "conv3_block3_1_relu (Activation (None, 28, 28, 128)  0           conv3_block3_1_bn[0][0]          \n",
            "__________________________________________________________________________________________________\n",
            "conv3_block3_2_pad (ZeroPadding (None, 30, 30, 128)  0           conv3_block3_1_relu[0][0]        \n",
            "__________________________________________________________________________________________________\n",
            "conv3_block3_2_conv (Conv2D)    (None, 28, 28, 128)  147456      conv3_block3_2_pad[0][0]         \n",
            "__________________________________________________________________________________________________\n",
            "conv3_block3_2_bn (BatchNormali (None, 28, 28, 128)  512         conv3_block3_2_conv[0][0]        \n",
            "__________________________________________________________________________________________________\n",
            "conv3_block3_2_relu (Activation (None, 28, 28, 128)  0           conv3_block3_2_bn[0][0]          \n",
            "__________________________________________________________________________________________________\n",
            "conv3_block3_3_conv (Conv2D)    (None, 28, 28, 512)  66048       conv3_block3_2_relu[0][0]        \n",
            "__________________________________________________________________________________________________\n",
            "conv3_block3_out (Add)          (None, 28, 28, 512)  0           conv3_block2_out[0][0]           \n",
            "                                                                 conv3_block3_3_conv[0][0]        \n",
            "__________________________________________________________________________________________________\n",
            "conv3_block4_preact_bn (BatchNo (None, 28, 28, 512)  2048        conv3_block3_out[0][0]           \n",
            "__________________________________________________________________________________________________\n",
            "conv3_block4_preact_relu (Activ (None, 28, 28, 512)  0           conv3_block4_preact_bn[0][0]     \n",
            "__________________________________________________________________________________________________\n",
            "conv3_block4_1_conv (Conv2D)    (None, 28, 28, 128)  65536       conv3_block4_preact_relu[0][0]   \n",
            "__________________________________________________________________________________________________\n",
            "conv3_block4_1_bn (BatchNormali (None, 28, 28, 128)  512         conv3_block4_1_conv[0][0]        \n",
            "__________________________________________________________________________________________________\n",
            "conv3_block4_1_relu (Activation (None, 28, 28, 128)  0           conv3_block4_1_bn[0][0]          \n",
            "__________________________________________________________________________________________________\n",
            "conv3_block4_2_pad (ZeroPadding (None, 30, 30, 128)  0           conv3_block4_1_relu[0][0]        \n",
            "__________________________________________________________________________________________________\n",
            "conv3_block4_2_conv (Conv2D)    (None, 14, 14, 128)  147456      conv3_block4_2_pad[0][0]         \n",
            "__________________________________________________________________________________________________\n",
            "conv3_block4_2_bn (BatchNormali (None, 14, 14, 128)  512         conv3_block4_2_conv[0][0]        \n",
            "__________________________________________________________________________________________________\n",
            "conv3_block4_2_relu (Activation (None, 14, 14, 128)  0           conv3_block4_2_bn[0][0]          \n",
            "__________________________________________________________________________________________________\n",
            "max_pooling2d_1 (MaxPooling2D)  (None, 14, 14, 512)  0           conv3_block3_out[0][0]           \n",
            "__________________________________________________________________________________________________\n",
            "conv3_block4_3_conv (Conv2D)    (None, 14, 14, 512)  66048       conv3_block4_2_relu[0][0]        \n",
            "__________________________________________________________________________________________________\n",
            "conv3_block4_out (Add)          (None, 14, 14, 512)  0           max_pooling2d_1[0][0]            \n",
            "                                                                 conv3_block4_3_conv[0][0]        \n",
            "__________________________________________________________________________________________________\n",
            "conv4_block1_preact_bn (BatchNo (None, 14, 14, 512)  2048        conv3_block4_out[0][0]           \n",
            "__________________________________________________________________________________________________\n",
            "conv4_block1_preact_relu (Activ (None, 14, 14, 512)  0           conv4_block1_preact_bn[0][0]     \n",
            "__________________________________________________________________________________________________\n",
            "conv4_block1_1_conv (Conv2D)    (None, 14, 14, 256)  131072      conv4_block1_preact_relu[0][0]   \n",
            "__________________________________________________________________________________________________\n",
            "conv4_block1_1_bn (BatchNormali (None, 14, 14, 256)  1024        conv4_block1_1_conv[0][0]        \n",
            "__________________________________________________________________________________________________\n",
            "conv4_block1_1_relu (Activation (None, 14, 14, 256)  0           conv4_block1_1_bn[0][0]          \n",
            "__________________________________________________________________________________________________\n",
            "conv4_block1_2_pad (ZeroPadding (None, 16, 16, 256)  0           conv4_block1_1_relu[0][0]        \n",
            "__________________________________________________________________________________________________\n",
            "conv4_block1_2_conv (Conv2D)    (None, 14, 14, 256)  589824      conv4_block1_2_pad[0][0]         \n",
            "__________________________________________________________________________________________________\n",
            "conv4_block1_2_bn (BatchNormali (None, 14, 14, 256)  1024        conv4_block1_2_conv[0][0]        \n",
            "__________________________________________________________________________________________________\n",
            "conv4_block1_2_relu (Activation (None, 14, 14, 256)  0           conv4_block1_2_bn[0][0]          \n",
            "__________________________________________________________________________________________________\n",
            "conv4_block1_0_conv (Conv2D)    (None, 14, 14, 1024) 525312      conv4_block1_preact_relu[0][0]   \n",
            "__________________________________________________________________________________________________\n",
            "conv4_block1_3_conv (Conv2D)    (None, 14, 14, 1024) 263168      conv4_block1_2_relu[0][0]        \n",
            "__________________________________________________________________________________________________\n",
            "conv4_block1_out (Add)          (None, 14, 14, 1024) 0           conv4_block1_0_conv[0][0]        \n",
            "                                                                 conv4_block1_3_conv[0][0]        \n",
            "__________________________________________________________________________________________________\n",
            "conv4_block2_preact_bn (BatchNo (None, 14, 14, 1024) 4096        conv4_block1_out[0][0]           \n",
            "__________________________________________________________________________________________________\n",
            "conv4_block2_preact_relu (Activ (None, 14, 14, 1024) 0           conv4_block2_preact_bn[0][0]     \n",
            "__________________________________________________________________________________________________\n",
            "conv4_block2_1_conv (Conv2D)    (None, 14, 14, 256)  262144      conv4_block2_preact_relu[0][0]   \n",
            "__________________________________________________________________________________________________\n",
            "conv4_block2_1_bn (BatchNormali (None, 14, 14, 256)  1024        conv4_block2_1_conv[0][0]        \n",
            "__________________________________________________________________________________________________\n",
            "conv4_block2_1_relu (Activation (None, 14, 14, 256)  0           conv4_block2_1_bn[0][0]          \n",
            "__________________________________________________________________________________________________\n",
            "conv4_block2_2_pad (ZeroPadding (None, 16, 16, 256)  0           conv4_block2_1_relu[0][0]        \n",
            "__________________________________________________________________________________________________\n",
            "conv4_block2_2_conv (Conv2D)    (None, 14, 14, 256)  589824      conv4_block2_2_pad[0][0]         \n",
            "__________________________________________________________________________________________________\n",
            "conv4_block2_2_bn (BatchNormali (None, 14, 14, 256)  1024        conv4_block2_2_conv[0][0]        \n",
            "__________________________________________________________________________________________________\n",
            "conv4_block2_2_relu (Activation (None, 14, 14, 256)  0           conv4_block2_2_bn[0][0]          \n",
            "__________________________________________________________________________________________________\n",
            "conv4_block2_3_conv (Conv2D)    (None, 14, 14, 1024) 263168      conv4_block2_2_relu[0][0]        \n",
            "__________________________________________________________________________________________________\n",
            "conv4_block2_out (Add)          (None, 14, 14, 1024) 0           conv4_block1_out[0][0]           \n",
            "                                                                 conv4_block2_3_conv[0][0]        \n",
            "__________________________________________________________________________________________________\n",
            "conv4_block3_preact_bn (BatchNo (None, 14, 14, 1024) 4096        conv4_block2_out[0][0]           \n",
            "__________________________________________________________________________________________________\n",
            "conv4_block3_preact_relu (Activ (None, 14, 14, 1024) 0           conv4_block3_preact_bn[0][0]     \n",
            "__________________________________________________________________________________________________\n",
            "conv4_block3_1_conv (Conv2D)    (None, 14, 14, 256)  262144      conv4_block3_preact_relu[0][0]   \n",
            "__________________________________________________________________________________________________\n",
            "conv4_block3_1_bn (BatchNormali (None, 14, 14, 256)  1024        conv4_block3_1_conv[0][0]        \n",
            "__________________________________________________________________________________________________\n",
            "conv4_block3_1_relu (Activation (None, 14, 14, 256)  0           conv4_block3_1_bn[0][0]          \n",
            "__________________________________________________________________________________________________\n",
            "conv4_block3_2_pad (ZeroPadding (None, 16, 16, 256)  0           conv4_block3_1_relu[0][0]        \n",
            "__________________________________________________________________________________________________\n",
            "conv4_block3_2_conv (Conv2D)    (None, 14, 14, 256)  589824      conv4_block3_2_pad[0][0]         \n",
            "__________________________________________________________________________________________________\n",
            "conv4_block3_2_bn (BatchNormali (None, 14, 14, 256)  1024        conv4_block3_2_conv[0][0]        \n",
            "__________________________________________________________________________________________________\n",
            "conv4_block3_2_relu (Activation (None, 14, 14, 256)  0           conv4_block3_2_bn[0][0]          \n",
            "__________________________________________________________________________________________________\n",
            "conv4_block3_3_conv (Conv2D)    (None, 14, 14, 1024) 263168      conv4_block3_2_relu[0][0]        \n",
            "__________________________________________________________________________________________________\n",
            "conv4_block3_out (Add)          (None, 14, 14, 1024) 0           conv4_block2_out[0][0]           \n",
            "                                                                 conv4_block3_3_conv[0][0]        \n",
            "__________________________________________________________________________________________________\n",
            "conv4_block4_preact_bn (BatchNo (None, 14, 14, 1024) 4096        conv4_block3_out[0][0]           \n",
            "__________________________________________________________________________________________________\n",
            "conv4_block4_preact_relu (Activ (None, 14, 14, 1024) 0           conv4_block4_preact_bn[0][0]     \n",
            "__________________________________________________________________________________________________\n",
            "conv4_block4_1_conv (Conv2D)    (None, 14, 14, 256)  262144      conv4_block4_preact_relu[0][0]   \n",
            "__________________________________________________________________________________________________\n",
            "conv4_block4_1_bn (BatchNormali (None, 14, 14, 256)  1024        conv4_block4_1_conv[0][0]        \n",
            "__________________________________________________________________________________________________\n",
            "conv4_block4_1_relu (Activation (None, 14, 14, 256)  0           conv4_block4_1_bn[0][0]          \n",
            "__________________________________________________________________________________________________\n",
            "conv4_block4_2_pad (ZeroPadding (None, 16, 16, 256)  0           conv4_block4_1_relu[0][0]        \n",
            "__________________________________________________________________________________________________\n",
            "conv4_block4_2_conv (Conv2D)    (None, 14, 14, 256)  589824      conv4_block4_2_pad[0][0]         \n",
            "__________________________________________________________________________________________________\n",
            "conv4_block4_2_bn (BatchNormali (None, 14, 14, 256)  1024        conv4_block4_2_conv[0][0]        \n",
            "__________________________________________________________________________________________________\n",
            "conv4_block4_2_relu (Activation (None, 14, 14, 256)  0           conv4_block4_2_bn[0][0]          \n",
            "__________________________________________________________________________________________________\n",
            "conv4_block4_3_conv (Conv2D)    (None, 14, 14, 1024) 263168      conv4_block4_2_relu[0][0]        \n",
            "__________________________________________________________________________________________________\n",
            "conv4_block4_out (Add)          (None, 14, 14, 1024) 0           conv4_block3_out[0][0]           \n",
            "                                                                 conv4_block4_3_conv[0][0]        \n",
            "__________________________________________________________________________________________________\n",
            "conv4_block5_preact_bn (BatchNo (None, 14, 14, 1024) 4096        conv4_block4_out[0][0]           \n",
            "__________________________________________________________________________________________________\n",
            "conv4_block5_preact_relu (Activ (None, 14, 14, 1024) 0           conv4_block5_preact_bn[0][0]     \n",
            "__________________________________________________________________________________________________\n",
            "conv4_block5_1_conv (Conv2D)    (None, 14, 14, 256)  262144      conv4_block5_preact_relu[0][0]   \n",
            "__________________________________________________________________________________________________\n",
            "conv4_block5_1_bn (BatchNormali (None, 14, 14, 256)  1024        conv4_block5_1_conv[0][0]        \n",
            "__________________________________________________________________________________________________\n",
            "conv4_block5_1_relu (Activation (None, 14, 14, 256)  0           conv4_block5_1_bn[0][0]          \n",
            "__________________________________________________________________________________________________\n",
            "conv4_block5_2_pad (ZeroPadding (None, 16, 16, 256)  0           conv4_block5_1_relu[0][0]        \n",
            "__________________________________________________________________________________________________\n",
            "conv4_block5_2_conv (Conv2D)    (None, 14, 14, 256)  589824      conv4_block5_2_pad[0][0]         \n",
            "__________________________________________________________________________________________________\n",
            "conv4_block5_2_bn (BatchNormali (None, 14, 14, 256)  1024        conv4_block5_2_conv[0][0]        \n",
            "__________________________________________________________________________________________________\n",
            "conv4_block5_2_relu (Activation (None, 14, 14, 256)  0           conv4_block5_2_bn[0][0]          \n",
            "__________________________________________________________________________________________________\n",
            "conv4_block5_3_conv (Conv2D)    (None, 14, 14, 1024) 263168      conv4_block5_2_relu[0][0]        \n",
            "__________________________________________________________________________________________________\n",
            "conv4_block5_out (Add)          (None, 14, 14, 1024) 0           conv4_block4_out[0][0]           \n",
            "                                                                 conv4_block5_3_conv[0][0]        \n",
            "__________________________________________________________________________________________________\n",
            "conv4_block6_preact_bn (BatchNo (None, 14, 14, 1024) 4096        conv4_block5_out[0][0]           \n",
            "__________________________________________________________________________________________________\n",
            "conv4_block6_preact_relu (Activ (None, 14, 14, 1024) 0           conv4_block6_preact_bn[0][0]     \n",
            "__________________________________________________________________________________________________\n",
            "conv4_block6_1_conv (Conv2D)    (None, 14, 14, 256)  262144      conv4_block6_preact_relu[0][0]   \n",
            "__________________________________________________________________________________________________\n",
            "conv4_block6_1_bn (BatchNormali (None, 14, 14, 256)  1024        conv4_block6_1_conv[0][0]        \n",
            "__________________________________________________________________________________________________\n",
            "conv4_block6_1_relu (Activation (None, 14, 14, 256)  0           conv4_block6_1_bn[0][0]          \n",
            "__________________________________________________________________________________________________\n",
            "conv4_block6_2_pad (ZeroPadding (None, 16, 16, 256)  0           conv4_block6_1_relu[0][0]        \n",
            "__________________________________________________________________________________________________\n",
            "conv4_block6_2_conv (Conv2D)    (None, 7, 7, 256)    589824      conv4_block6_2_pad[0][0]         \n",
            "__________________________________________________________________________________________________\n",
            "conv4_block6_2_bn (BatchNormali (None, 7, 7, 256)    1024        conv4_block6_2_conv[0][0]        \n",
            "__________________________________________________________________________________________________\n",
            "conv4_block6_2_relu (Activation (None, 7, 7, 256)    0           conv4_block6_2_bn[0][0]          \n",
            "__________________________________________________________________________________________________\n",
            "max_pooling2d_2 (MaxPooling2D)  (None, 7, 7, 1024)   0           conv4_block5_out[0][0]           \n",
            "__________________________________________________________________________________________________\n",
            "conv4_block6_3_conv (Conv2D)    (None, 7, 7, 1024)   263168      conv4_block6_2_relu[0][0]        \n",
            "__________________________________________________________________________________________________\n",
            "conv4_block6_out (Add)          (None, 7, 7, 1024)   0           max_pooling2d_2[0][0]            \n",
            "                                                                 conv4_block6_3_conv[0][0]        \n",
            "__________________________________________________________________________________________________\n",
            "conv5_block1_preact_bn (BatchNo (None, 7, 7, 1024)   4096        conv4_block6_out[0][0]           \n",
            "__________________________________________________________________________________________________\n",
            "conv5_block1_preact_relu (Activ (None, 7, 7, 1024)   0           conv5_block1_preact_bn[0][0]     \n",
            "__________________________________________________________________________________________________\n",
            "conv5_block1_1_conv (Conv2D)    (None, 7, 7, 512)    524288      conv5_block1_preact_relu[0][0]   \n",
            "__________________________________________________________________________________________________\n",
            "conv5_block1_1_bn (BatchNormali (None, 7, 7, 512)    2048        conv5_block1_1_conv[0][0]        \n",
            "__________________________________________________________________________________________________\n",
            "conv5_block1_1_relu (Activation (None, 7, 7, 512)    0           conv5_block1_1_bn[0][0]          \n",
            "__________________________________________________________________________________________________\n",
            "conv5_block1_2_pad (ZeroPadding (None, 9, 9, 512)    0           conv5_block1_1_relu[0][0]        \n",
            "__________________________________________________________________________________________________\n",
            "conv5_block1_2_conv (Conv2D)    (None, 7, 7, 512)    2359296     conv5_block1_2_pad[0][0]         \n",
            "__________________________________________________________________________________________________\n",
            "conv5_block1_2_bn (BatchNormali (None, 7, 7, 512)    2048        conv5_block1_2_conv[0][0]        \n",
            "__________________________________________________________________________________________________\n",
            "conv5_block1_2_relu (Activation (None, 7, 7, 512)    0           conv5_block1_2_bn[0][0]          \n",
            "__________________________________________________________________________________________________\n",
            "conv5_block1_0_conv (Conv2D)    (None, 7, 7, 2048)   2099200     conv5_block1_preact_relu[0][0]   \n",
            "__________________________________________________________________________________________________\n",
            "conv5_block1_3_conv (Conv2D)    (None, 7, 7, 2048)   1050624     conv5_block1_2_relu[0][0]        \n",
            "__________________________________________________________________________________________________\n",
            "conv5_block1_out (Add)          (None, 7, 7, 2048)   0           conv5_block1_0_conv[0][0]        \n",
            "                                                                 conv5_block1_3_conv[0][0]        \n",
            "__________________________________________________________________________________________________\n",
            "conv5_block2_preact_bn (BatchNo (None, 7, 7, 2048)   8192        conv5_block1_out[0][0]           \n",
            "__________________________________________________________________________________________________\n",
            "conv5_block2_preact_relu (Activ (None, 7, 7, 2048)   0           conv5_block2_preact_bn[0][0]     \n",
            "__________________________________________________________________________________________________\n",
            "conv5_block2_1_conv (Conv2D)    (None, 7, 7, 512)    1048576     conv5_block2_preact_relu[0][0]   \n",
            "__________________________________________________________________________________________________\n",
            "conv5_block2_1_bn (BatchNormali (None, 7, 7, 512)    2048        conv5_block2_1_conv[0][0]        \n",
            "__________________________________________________________________________________________________\n",
            "conv5_block2_1_relu (Activation (None, 7, 7, 512)    0           conv5_block2_1_bn[0][0]          \n",
            "__________________________________________________________________________________________________\n",
            "conv5_block2_2_pad (ZeroPadding (None, 9, 9, 512)    0           conv5_block2_1_relu[0][0]        \n",
            "__________________________________________________________________________________________________\n",
            "conv5_block2_2_conv (Conv2D)    (None, 7, 7, 512)    2359296     conv5_block2_2_pad[0][0]         \n",
            "__________________________________________________________________________________________________\n",
            "conv5_block2_2_bn (BatchNormali (None, 7, 7, 512)    2048        conv5_block2_2_conv[0][0]        \n",
            "__________________________________________________________________________________________________\n",
            "conv5_block2_2_relu (Activation (None, 7, 7, 512)    0           conv5_block2_2_bn[0][0]          \n",
            "__________________________________________________________________________________________________\n",
            "conv5_block2_3_conv (Conv2D)    (None, 7, 7, 2048)   1050624     conv5_block2_2_relu[0][0]        \n",
            "__________________________________________________________________________________________________\n",
            "conv5_block2_out (Add)          (None, 7, 7, 2048)   0           conv5_block1_out[0][0]           \n",
            "                                                                 conv5_block2_3_conv[0][0]        \n",
            "__________________________________________________________________________________________________\n",
            "conv5_block3_preact_bn (BatchNo (None, 7, 7, 2048)   8192        conv5_block2_out[0][0]           \n",
            "__________________________________________________________________________________________________\n",
            "conv5_block3_preact_relu (Activ (None, 7, 7, 2048)   0           conv5_block3_preact_bn[0][0]     \n",
            "__________________________________________________________________________________________________\n",
            "conv5_block3_1_conv (Conv2D)    (None, 7, 7, 512)    1048576     conv5_block3_preact_relu[0][0]   \n",
            "__________________________________________________________________________________________________\n",
            "conv5_block3_1_bn (BatchNormali (None, 7, 7, 512)    2048        conv5_block3_1_conv[0][0]        \n",
            "__________________________________________________________________________________________________\n",
            "conv5_block3_1_relu (Activation (None, 7, 7, 512)    0           conv5_block3_1_bn[0][0]          \n",
            "__________________________________________________________________________________________________\n",
            "conv5_block3_2_pad (ZeroPadding (None, 9, 9, 512)    0           conv5_block3_1_relu[0][0]        \n",
            "__________________________________________________________________________________________________\n",
            "conv5_block3_2_conv (Conv2D)    (None, 7, 7, 512)    2359296     conv5_block3_2_pad[0][0]         \n",
            "__________________________________________________________________________________________________\n",
            "conv5_block3_2_bn (BatchNormali (None, 7, 7, 512)    2048        conv5_block3_2_conv[0][0]        \n",
            "__________________________________________________________________________________________________\n",
            "conv5_block3_2_relu (Activation (None, 7, 7, 512)    0           conv5_block3_2_bn[0][0]          \n",
            "__________________________________________________________________________________________________\n",
            "conv5_block3_3_conv (Conv2D)    (None, 7, 7, 2048)   1050624     conv5_block3_2_relu[0][0]        \n",
            "__________________________________________________________________________________________________\n",
            "conv5_block3_out (Add)          (None, 7, 7, 2048)   0           conv5_block2_out[0][0]           \n",
            "                                                                 conv5_block3_3_conv[0][0]        \n",
            "__________________________________________________________________________________________________\n",
            "post_bn (BatchNormalization)    (None, 7, 7, 2048)   8192        conv5_block3_out[0][0]           \n",
            "__________________________________________________________________________________________________\n",
            "post_relu (Activation)          (None, 7, 7, 2048)   0           post_bn[0][0]                    \n",
            "__________________________________________________________________________________________________\n",
            "global_average_pooling2d (Globa (None, 2048)         0           post_relu[0][0]                  \n",
            "__________________________________________________________________________________________________\n",
            "dropout (Dropout)               (None, 2048)         0           global_average_pooling2d[0][0]   \n",
            "__________________________________________________________________________________________________\n",
            "dense (Dense)                   (None, 128)          262272      dropout[0][0]                    \n",
            "__________________________________________________________________________________________________\n",
            "leaky_re_lu (LeakyReLU)         (None, 128)          0           dense[0][0]                      \n",
            "__________________________________________________________________________________________________\n",
            "dense_1 (Dense)                 (None, 2)            258         leaky_re_lu[0][0]                \n",
            "__________________________________________________________________________________________________\n",
            "output (Activation)             (None, 2)            0           dense_1[0][0]                    \n",
            "==================================================================================================\n",
            "Total params: 23,827,330\n",
            "Trainable params: 23,781,890\n",
            "Non-trainable params: 45,440\n",
            "__________________________________________________________________________________________________\n"
          ],
          "name": "stdout"
        }
      ]
    },
    {
      "cell_type": "code",
      "metadata": {
        "id": "-V5X9HuKdGBN",
        "colab_type": "code",
        "colab": {
          "base_uri": "https://localhost:8080/",
          "height": 598
        },
        "outputId": "c3a24490-ae3f-4dac-edac-15762999dd85"
      },
      "source": [
        "# Train the model.\n",
        "steps_per_epoch = ceil(train_generator.n / train_generator.batch_size)\n",
        "print('Steps Per Epoch: ',steps_per_epoch)\n",
        "val_steps = ceil(val_generator.n / val_generator.batch_size)\n",
        "print('Validation Steps: ',val_steps)\n",
        "epochs=epochs=cfg['TRAIN']['EPOCHS']\n",
        "print('Epochs: ', epochs)\n",
        "history = model.fit(train_generator, steps_per_epoch=steps_per_epoch, epochs=epochs,\n",
        "                              validation_data=val_generator, validation_steps=val_steps, callbacks=callbacks,\n",
        "                              verbose=1, class_weight=class_weight_d)"
      ],
      "execution_count": null,
      "outputs": [
        {
          "output_type": "stream",
          "text": [
            "Steps Per Epoch:  34\n",
            "Validation Steps:  4\n",
            "Epochs:  200\n",
            "Epoch 1/200\n",
            "34/34 [==============================] - 65s 2s/step - loss: 0.0527 - accuracy: 0.9811 - precision: 0.9064 - recall: 0.9946 - auc: 0.9974 - f1score: 0.9485 - val_loss: 0.3298 - val_accuracy: 0.8173 - val_precision: 0.5625 - val_recall: 0.7826 - val_auc: 0.9361 - val_f1score: 0.6545\n",
            "Epoch 2/200\n",
            "34/34 [==============================] - 65s 2s/step - loss: 0.0492 - accuracy: 0.9830 - precision: 0.9167 - recall: 0.9888 - auc: 0.9979 - f1score: 0.9514 - val_loss: 0.3984 - val_accuracy: 0.8654 - val_precision: 0.6000 - val_recall: 0.6667 - val_auc: 0.9638 - val_f1score: 0.6316\n",
            "Epoch 3/200\n",
            "34/34 [==============================] - 64s 2s/step - loss: 0.0499 - accuracy: 0.9821 - precision: 0.9198 - recall: 0.9898 - auc: 0.9976 - f1score: 0.9535 - val_loss: 0.2584 - val_accuracy: 0.9135 - val_precision: 0.7368 - val_recall: 0.7778 - val_auc: 0.9656 - val_f1score: 0.7568\n",
            "Epoch 4/200\n",
            "34/34 [==============================] - 64s 2s/step - loss: 0.0555 - accuracy: 0.9830 - precision: 0.9227 - recall: 0.9835 - auc: 0.9974 - f1score: 0.9521 - val_loss: 0.2800 - val_accuracy: 0.8942 - val_precision: 0.6522 - val_recall: 0.8333 - val_auc: 0.9518 - val_f1score: 0.7317\n",
            "Epoch 5/200\n",
            "34/34 [==============================] - 66s 2s/step - loss: 0.0419 - accuracy: 0.9896 - precision: 0.9471 - recall: 0.9944 - auc: 0.9994 - f1score: 0.9702 - val_loss: 0.2003 - val_accuracy: 0.9135 - val_precision: 0.7500 - val_recall: 0.8571 - val_auc: 0.9807 - val_f1score: 0.8000\n",
            "Epoch 6/200\n",
            "34/34 [==============================] - 65s 2s/step - loss: 0.0347 - accuracy: 0.9906 - precision: 0.9485 - recall: 1.0000 - auc: 0.9992 - f1score: 0.9735 - val_loss: 0.2307 - val_accuracy: 0.9231 - val_precision: 0.7143 - val_recall: 0.8824 - val_auc: 0.9565 - val_f1score: 0.7895\n",
            "Epoch 7/200\n",
            "34/34 [==============================] - 64s 2s/step - loss: 0.0427 - accuracy: 0.9858 - precision: 0.9300 - recall: 0.9947 - auc: 0.9992 - f1score: 0.9612 - val_loss: 0.1738 - val_accuracy: 0.9327 - val_precision: 0.7647 - val_recall: 0.8125 - val_auc: 0.9847 - val_f1score: 0.7879\n",
            "Epoch 8/200\n",
            "34/34 [==============================] - 65s 2s/step - loss: 0.0651 - accuracy: 0.9755 - precision: 0.9005 - recall: 0.9679 - auc: 0.9981 - f1score: 0.9330 - val_loss: 0.1754 - val_accuracy: 0.9038 - val_precision: 0.6667 - val_recall: 0.8889 - val_auc: 0.9845 - val_f1score: 0.7619\n",
            "Epoch 9/200\n",
            "34/34 [==============================] - 65s 2s/step - loss: 0.0991 - accuracy: 0.9783 - precision: 0.8990 - recall: 0.9894 - auc: 0.9959 - f1score: 0.9421 - val_loss: 6.0032 - val_accuracy: 0.2019 - val_precision: 0.1863 - val_recall: 1.0000 - val_auc: 0.2258 - val_f1score: 0.3140\n",
            "Epoch 10/200\n",
            "34/34 [==============================] - 65s 2s/step - loss: 0.1925 - accuracy: 0.9170 - precision: 0.6892 - recall: 0.9454 - auc: 0.9734 - f1score: 0.7972 - val_loss: 2.7434 - val_accuracy: 0.2404 - val_precision: 0.1596 - val_recall: 1.0000 - val_auc: 0.2648 - val_f1score: 0.2752\n",
            "Epoch 11/200\n",
            "34/34 [==============================] - 63s 2s/step - loss: 0.1809 - accuracy: 0.9170 - precision: 0.6877 - recall: 0.9508 - auc: 0.9784 - f1score: 0.7982 - val_loss: 0.4029 - val_accuracy: 0.7981 - val_precision: 0.4872 - val_recall: 0.9500 - val_auc: 0.9083 - val_f1score: 0.6441\n",
            "Epoch 12/200\n",
            "34/34 [==============================] - 66s 2s/step - loss: 0.0971 - accuracy: 0.9575 - precision: 0.8108 - recall: 0.9836 - auc: 0.9935 - f1score: 0.8889 - val_loss: 0.2439 - val_accuracy: 0.9135 - val_precision: 0.7647 - val_recall: 0.7222 - val_auc: 0.9773 - val_f1score: 0.7429\n",
            "Epoch 13/200\n",
            "34/34 [==============================] - 66s 2s/step - loss: 0.0736 - accuracy: 0.9736 - precision: 0.8792 - recall: 0.9838 - auc: 0.9973 - f1score: 0.9286 - val_loss: 0.2140 - val_accuracy: 0.9327 - val_precision: 0.7895 - val_recall: 0.8333 - val_auc: 0.9779 - val_f1score: 0.8108\n",
            "Epoch 14/200\n",
            "34/34 [==============================] - ETA: 0s - loss: 0.0550 - accuracy: 0.9802 - precision: 0.9069 - recall: 0.9893 - auc: 0.9984 - f1score: 0.9463Restoring model weights from the end of the best epoch.\n",
            "34/34 [==============================] - 67s 2s/step - loss: 0.0550 - accuracy: 0.9802 - precision: 0.9069 - recall: 0.9893 - auc: 0.9984 - f1score: 0.9463 - val_loss: 1.6051 - val_accuracy: 0.6827 - val_precision: 0.3125 - val_recall: 1.0000 - val_auc: 0.7207 - val_f1score: 0.4762\n",
            "Epoch 00014: early stopping\n"
          ],
          "name": "stdout"
        }
      ]
    },
    {
      "cell_type": "markdown",
      "metadata": {
        "id": "eTvJtsPAVSzr",
        "colab_type": "text"
      },
      "source": [
        "Save the trained MODEL in a .h5 format:"
      ]
    },
    {
      "cell_type": "code",
      "metadata": {
        "id": "YN7Zc0JAVS-S",
        "colab_type": "code",
        "colab": {}
      },
      "source": [
        "if save_weights:\n",
        "  model_path = cfg['PATHS']['MODEL_WEIGHTS'] + 'model' + '.h5'\n",
        "  save_model(model, model_path)  # Save the model's weights"
      ],
      "execution_count": null,
      "outputs": []
    },
    {
      "cell_type": "markdown",
      "metadata": {
        "id": "8puxckEQKk5i",
        "colab_type": "text"
      },
      "source": [
        "# **3. Model Evaluation**"
      ]
    },
    {
      "cell_type": "markdown",
      "metadata": {
        "id": "hEXolk0WmvAQ",
        "colab_type": "text"
      },
      "source": [
        "Run the trained model on the testing data set. Summary of the performance metrics:"
      ]
    },
    {
      "cell_type": "code",
      "metadata": {
        "id": "VWF8mdyrvAiF",
        "colab_type": "code",
        "colab": {
          "base_uri": "https://localhost:8080/",
          "height": 156
        },
        "outputId": "03a16e1b-a407-4604-8174-72e7ce1b19bb"
      },
      "source": [
        "# Run the model on the test set and print the resulting performance metrics.\n",
        "test_results = model.evaluate(test_generator, verbose=1, steps=len(test_generator))\n",
        "test_metrics = {}\n",
        "test_summary_str = [['**Metric**', '**Value**']]\n",
        "for metric, value in zip(model.metrics_names, test_results):\n",
        "    test_metrics[metric] = value\n",
        "    print(metric, ' = ', value)\n",
        "    test_summary_str.append([metric, str(value)])"
      ],
      "execution_count": null,
      "outputs": [
        {
          "output_type": "stream",
          "text": [
            "5/5 [==============================] - 5s 998ms/step - loss: 0.4028 - accuracy: 0.8769 - precision: 0.6296 - recall: 0.7391 - auc: 0.9362 - f1score: 0.6800\n",
            "loss  =  0.402803510427475\n",
            "accuracy  =  0.8769230842590332\n",
            "precision  =  0.6296296119689941\n",
            "recall  =  0.739130437374115\n",
            "auc  =  0.936212956905365\n",
            "f1score  =  0.6799999475479126\n"
          ],
          "name": "stdout"
        }
      ]
    },
    {
      "cell_type": "markdown",
      "metadata": {
        "id": "cO6fB0XkKijO",
        "colab_type": "text"
      },
      "source": [
        "We plot the receiver operating characteristic curve, or ROC curve, to illustrates the diagnostic ability of a binary classifier"
      ]
    },
    {
      "cell_type": "code",
      "metadata": {
        "id": "ucUNFcDbCtYI",
        "colab_type": "code",
        "colab": {
          "base_uri": "https://localhost:8080/",
          "height": 606
        },
        "outputId": "9342c261-78a3-40e3-a6ea-408d72501057"
      },
      "source": [
        "import tensorflow as tf\n",
        "import matplotlib.pyplot as plt\n",
        "import matplotlib as mpl\n",
        "import datetime\n",
        "import io\n",
        "import os\n",
        "import numpy as np\n",
        "from sklearn.metrics import confusion_matrix, roc_curve\n",
        "from skimage.segmentation import mark_boundaries\n",
        "\n",
        "# Set some matplotlib parameters\n",
        "mpl.rcParams['figure.figsize'] = (12, 10)\n",
        "\n",
        "def plot_to_tensor():\n",
        "    '''\n",
        "    Converts a matplotlib figure to an image tensor\n",
        "    :param figure: A matplotlib figure\n",
        "    :return: Tensorflow tensor representing the matplotlib image\n",
        "    '''\n",
        "    # Save the plot to a PNG in memory.\n",
        "    buf = io.BytesIO()\n",
        "    plt.savefig(buf, format='png')\n",
        "    buf.seek(0)\n",
        "\n",
        "    image_tensor = tf.image.decode_png(buf.getvalue(), channels=4)     # Convert .png buffer to tensorflow image\n",
        "    image_tensor = tf.expand_dims(image_tensor, 0)     # Add the batch dimension\n",
        "    return image_tensor\n",
        "\n",
        "def plot_roc(name, labels, predictions, class_id=1, dir_path=None):\n",
        "    '''\n",
        "    Plots the ROC curve for predictions on a dataset\n",
        "    :param name: Name of dataset on the plot\n",
        "    :param labels: Ground truth labels\n",
        "    :param predictions: Model predictions corresponding to the labels\n",
        "    :param class_id: Index of class to consider\n",
        "    :param dir_path: Directory in which to save image\n",
        "    '''\n",
        "    plt.clf()\n",
        "    single_class_preds = predictions[:, class_id]    # Only care about one class\n",
        "    single_class_labels = (np.array(labels) == class_id) * 1.0\n",
        "    predictions = single_class_preds\n",
        "    labels = single_class_labels\n",
        "    fp, tp, _ = roc_curve(labels, predictions)  # Get values for true positive and true negative\n",
        "    plt.plot(100*fp, 100*tp, label=name, linewidth=2)   # Plot the ROC curve\n",
        "    plt.xlabel('False positives [%]')\n",
        "    plt.ylabel('True positives [%]')\n",
        "    plt.xlim([-5,105])\n",
        "    plt.ylim([-5,105])\n",
        "    plt.grid(True)\n",
        "    ax = plt.gca()\n",
        "    ax.set_aspect('equal')\n",
        "    if dir_path is not None:\n",
        "        if not os.path.exists(dir_path):\n",
        "            os.makedirs(dir_path)\n",
        "        plt.savefig(dir_path + 'ROC_' + datetime.datetime.now().strftime(\"%Y%m%d-%H%M%S\") + '.png')\n",
        "    return plt\n",
        "\n",
        "\n",
        "# Visualization of test results\n",
        "test_predictions = model.predict_generator(test_generator, verbose=0, steps=len(test_generator))\n",
        "test_labels = test_generator.labels\n",
        "covid_idx = test_generator.class_indices['COVID-19']\n",
        "plt = plot_roc(\"Test set\", test_labels, test_predictions, class_id=covid_idx)\n",
        "roc_img = plot_to_tensor()\n"
      ],
      "execution_count": null,
      "outputs": [
        {
          "output_type": "display_data",
          "data": {
            "image/png": "[encoded data removed]",
            "text/plain": [
              "<Figure size 864x720 with 1 Axes>"
            ]
          },
          "metadata": {
            "tags": [],
            "needs_background": "light"
          }
        }
      ]
    },
    {
      "cell_type": "code",
      "metadata": {
        "id": "r0mF_ZzKJtUI",
        "colab_type": "code",
        "colab": {
          "base_uri": "https://localhost:8080/",
          "height": 682
        },
        "outputId": "2321dc2b-3e07-4740-e53e-4035347a1867"
      },
      "source": [
        "def plot_confusion_matrix(labels, predictions, class_id=1, dir_path=None):\n",
        "    '''\n",
        "    Plot a confusion matrix for the ground truth labels and corresponding model predictions for a particular class.\n",
        "    :param labels: Ground truth labels\n",
        "    :param predictions: Model predictions\n",
        "    :param class_id: Index of class to consider\n",
        "    :param dir_path: Directory in which to save image\n",
        "    '''\n",
        "    plt.clf()\n",
        "    p = 1.0 / np.unique(labels).shape[0]\n",
        "    single_class_preds = predictions[:, class_id]    # Only care about one class\n",
        "    single_class_labels = (np.array(labels) == class_id) * 1.0\n",
        "    predictions = single_class_preds\n",
        "    labels = single_class_labels\n",
        "    ax = plt.subplot()\n",
        "    cm = confusion_matrix(labels, predictions > p)  # Calculate confusion matrix\n",
        "    im = ax.imshow(cm, interpolation='nearest', cmap=plt.cm.Blues)  # Plot confusion matrix\n",
        "    ax.figure.colorbar(im, ax=ax)\n",
        "    ax.set(yticks=[-0.5, 1.5], xticks=[0, 1], yticklabels=['0', '1'], xticklabels=['0', '1'])\n",
        "    ax.yaxis.set_major_locator(mpl.ticker.IndexLocator(base=1, offset=0.5))\n",
        "\n",
        "    # Print number of TPs, FPs, TNs, FNs on each quadrant in the plot\n",
        "    thresh = cm.max() / 2\n",
        "    for i in range(cm.shape[0]):\n",
        "        for j in range(cm.shape[1]):\n",
        "            plt.text(j, i, cm[i, j], horizontalalignment=\"center\", color=\"white\" if cm[i, j] > thresh else \"black\")\n",
        "\n",
        "    # Set plot's title and axis names\n",
        "    plt.title('Confusion matrix p={:.2f}'.format(p))\n",
        "    plt.ylabel('Actual label')\n",
        "    plt.xlabel('Predicted label')\n",
        "\n",
        "    # Save the image\n",
        "    if dir_path is not None:\n",
        "        plt.savefig(dir_path + 'CM_' + datetime.datetime.now().strftime(\"%Y%m%d-%H%M%S\") + '.png')\n",
        "\n",
        "    # Print these statistics\n",
        "    print('True (-)ves: ', cm[0][0], '\\nFalse (+)ves: ', cm[0][1], '\\nFalse (-)ves: ', cm[1][0], '\\nTrue (+)ves: ',\n",
        "          cm[1][1])\n",
        "    return plt\n",
        "plt = plot_confusion_matrix(test_labels, test_predictions, class_id=covid_idx)\n",
        "cm_img = plot_to_tensor()"
      ],
      "execution_count": null,
      "outputs": [
        {
          "output_type": "stream",
          "text": [
            "True (-)ves:  97 \n",
            "False (+)ves:  10 \n",
            "False (-)ves:  6 \n",
            "True (+)ves:  17\n"
          ],
          "name": "stdout"
        },
        {
          "output_type": "display_data",
          "data": {
            "image/png": "[encoded data removed]",
            "text/plain": [
              "<Figure size 864x720 with 2 Axes>"
            ]
          },
          "metadata": {
            "tags": [],
            "needs_background": "light"
          }
        }
      ]
    },
    {
      "cell_type": "markdown",
      "metadata": {
        "id": "4zmWxVrQSxUH",
        "colab_type": "text"
      },
      "source": [
        "Metrics of training and validation are plotted vs epochs:"
      ]
    },
    {
      "cell_type": "code",
      "metadata": {
        "id": "DTYjhV7rPLaa",
        "colab_type": "code",
        "colab": {
          "base_uri": "https://localhost:8080/",
          "height": 623
        },
        "outputId": "5e33c2eb-62ff-4da1-cc8e-bacc471cc391"
      },
      "source": [
        "def plot_metrics(history, metrics, dir_path=None):\n",
        "    '''\n",
        "    Plot metrics for the training and validation sets over the training history.\n",
        "    :param history: Model history; returned from model.fit()\n",
        "    :param metrics: List of metrics to plot\n",
        "    :param dir_path: Directory in which to save image\n",
        "    '''\n",
        "plt.clf()\n",
        "plt.subplot(2,3,1)\n",
        "plt.plot(history.epoch,  history.history['accuracy'], label='Train')    # Plot metric on training data\n",
        "plt.plot(history.epoch, history.history['val_'+'accuracy'], linestyle=\"--\", label='Val')    # Plot metric on validation data\n",
        "plt.xlabel('Epoch')\n",
        "plt.ylabel('accuracy')\n",
        "plt.legend()\n",
        "\n",
        "\n",
        "plt.subplot(2,3,2)\n",
        "plt.plot(history.epoch,  history.history['auc'], label='Train')    # Plot metric on training data\n",
        "plt.plot(history.epoch, history.history['val_'+'auc'], linestyle=\"--\", label='Val')    # Plot metric on validation data\n",
        "plt.xlabel('Epoch')\n",
        "plt.ylabel('AUC')\n",
        "plt.legend()\n",
        "\n",
        "plt.subplot(2,3,3)\n",
        "plt.plot(history.epoch,  history.history['loss'], label='Train')    # Plot metric on training data\n",
        "plt.plot(history.epoch, history.history['val_'+'loss'], linestyle=\"--\", label='Val')    # Plot metric on validation data\n",
        "plt.xlabel('Epoch')\n",
        "plt.ylabel('Loss')\n",
        "plt.legend()\n",
        "\n",
        "plt.subplot(2,3,4)\n",
        "plt.plot(history.epoch,  history.history['precision'], label='Train')    # Plot metric on training data\n",
        "plt.plot(history.epoch, history.history['val_'+'precision'], linestyle=\"--\", label='Val')    # Plot metric on validation data\n",
        "plt.xlabel('Epoch')\n",
        "plt.ylabel('precision')\n",
        "plt.legend()\n",
        "\n",
        "plt.subplot(2,3,5)\n",
        "plt.plot(history.epoch,  history.history['recall'], label='Train')    # Plot metric on training data\n",
        "plt.plot(history.epoch, history.history['val_'+'recall'], linestyle=\"--\", label='Val')    # Plot metric on validation data\n",
        "plt.xlabel('Epoch')\n",
        "plt.ylabel('recall')\n",
        "plt.legend()\n",
        "\n",
        "\n",
        "plt.subplot(2,3,6)\n",
        "plt.plot(history.epoch,  history.history['f1score'], label='Train')    # Plot metric on training data\n",
        "plt.plot(history.epoch, history.history['val_'+'f1score'], linestyle=\"--\", label='Val')    # Plot metric on validation data\n",
        "plt.xlabel('Epoch')\n",
        "plt.ylabel('f1score')\n",
        "plt.legend()\n"
      ],
      "execution_count": null,
      "outputs": [
        {
          "output_type": "execute_result",
          "data": {
            "text/plain": [
              "<matplotlib.legend.Legend at 0x7f22eaf24b38>"
            ]
          },
          "metadata": {
            "tags": []
          },
          "execution_count": 51
        },
        {
          "output_type": "display_data",
          "data": {
            "image/png": "[encoded data removed]",
            "text/plain": [
              "<Figure size 864x720 with 6 Axes>"
            ]
          },
          "metadata": {
            "tags": [],
            "needs_background": "light"
          }
        }
      ]
    },
    {
      "cell_type": "markdown",
      "metadata": {
        "id": "-W__zd37-m7W",
        "colab_type": "text"
      },
      "source": [
        "# **4. Explainability**"
      ]
    },
    {
      "cell_type": "markdown",
      "metadata": {
        "id": "bRVSTc_HbR33",
        "colab_type": "text"
      },
      "source": [
        "## **Lime Explainer:**"
      ]
    },
    {
      "cell_type": "code",
      "metadata": {
        "id": "CqkwrobUd8QD",
        "colab_type": "code",
        "colab": {
          "base_uri": "https://localhost:8080/",
          "height": 323
        },
        "outputId": "e2bd96ff-3187-4a1a-d548-5f80b82cbf68"
      },
      "source": [
        "!pip install lime"
      ],
      "execution_count": null,
      "outputs": [
        {
          "output_type": "stream",
          "text": [
            "Requirement already satisfied: lime in /usr/local/lib/python3.6/dist-packages (0.2.0.0)\n",
            "Requirement already satisfied: scikit-learn>=0.18 in /usr/local/lib/python3.6/dist-packages (from lime) (0.22.2.post1)\n",
            "Requirement already satisfied: pillow==5.4.1 in /usr/local/lib/python3.6/dist-packages (from lime) (5.4.1)\n",
            "Requirement already satisfied: matplotlib in /usr/local/lib/python3.6/dist-packages (from lime) (3.2.1)\n",
            "Requirement already satisfied: scikit-image>=0.12 in /usr/local/lib/python3.6/dist-packages (from lime) (0.16.2)\n",
            "Requirement already satisfied: tqdm in /usr/local/lib/python3.6/dist-packages (from lime) (4.38.0)\n",
            "Requirement already satisfied: scipy in /usr/local/lib/python3.6/dist-packages (from lime) (1.4.1)\n",
            "Requirement already satisfied: numpy in /usr/local/lib/python3.6/dist-packages (from lime) (1.18.2)\n",
            "Requirement already satisfied: joblib>=0.11 in /usr/local/lib/python3.6/dist-packages (from scikit-learn>=0.18->lime) (0.14.1)\n",
            "Requirement already satisfied: pyparsing!=2.0.4,!=2.1.2,!=2.1.6,>=2.0.1 in /usr/local/lib/python3.6/dist-packages (from matplotlib->lime) (2.4.7)\n",
            "Requirement already satisfied: python-dateutil>=2.1 in /usr/local/lib/python3.6/dist-packages (from matplotlib->lime) (2.8.1)\n",
            "Requirement already satisfied: cycler>=0.10 in /usr/local/lib/python3.6/dist-packages (from matplotlib->lime) (0.10.0)\n",
            "Requirement already satisfied: kiwisolver>=1.0.1 in /usr/local/lib/python3.6/dist-packages (from matplotlib->lime) (1.2.0)\n",
            "Requirement already satisfied: PyWavelets>=0.4.0 in /usr/local/lib/python3.6/dist-packages (from scikit-image>=0.12->lime) (1.1.1)\n",
            "Requirement already satisfied: imageio>=2.3.0 in /usr/local/lib/python3.6/dist-packages (from scikit-image>=0.12->lime) (2.4.1)\n",
            "Requirement already satisfied: networkx>=2.0 in /usr/local/lib/python3.6/dist-packages (from scikit-image>=0.12->lime) (2.4)\n",
            "Requirement already satisfied: six>=1.5 in /usr/local/lib/python3.6/dist-packages (from python-dateutil>=2.1->matplotlib->lime) (1.12.0)\n",
            "Requirement already satisfied: decorator>=4.3.0 in /usr/local/lib/python3.6/dist-packages (from networkx>=2.0->scikit-image>=0.12->lime) (4.4.2)\n"
          ],
          "name": "stdout"
        }
      ]
    },
    {
      "cell_type": "code",
      "metadata": {
        "id": "L-hFJZr0iJOQ",
        "colab_type": "code",
        "colab": {}
      },
      "source": [
        "from lime.lime_image import *\n",
        "from tensorflow.keras.models import load_model\n",
        "from tensorflow.keras.preprocessing.image import ImageDataGenerator\n",
        "from tqdm import tqdm\n",
        "from datetime import datetime\n",
        "from tensorflow.keras.models import load_model\n",
        "from tensorflow.keras.preprocessing.image import ImageDataGenerator\n",
        "from lime.wrappers.scikit_image import SegmentationAlgorithm\n",
        "from sklearn.metrics import confusion_matrix, roc_curve\n",
        "from skimage.segmentation import mark_boundaries\n",
        "\n",
        "def visualize_explanation(orig_img, explanation, img_filename, label, probs, class_names, label_to_see='top', dir_path=None):\n",
        "    '''\n",
        "    Visualize an explanation for the prediction of a single X-ray image.\n",
        "    :param orig_img: Original X-Ray image\n",
        "    :param explanation: ImageExplanation object\n",
        "    :param img_filename: Filename of the image explained\n",
        "    :param label: Ground truth class of the example\n",
        "    :param probs: Prediction probabilities\n",
        "    :param class_names: Ordered list of class names\n",
        "    :param label_to_see: Label to visualize in explanation\n",
        "    :param dir_path: Path to directory where to save the generated image\n",
        "    :return: Path to saved image\n",
        "    '''\n",
        "\n",
        "    # Plot original image on the left\n",
        "    fig, ax = plt.subplots(1, 2)\n",
        "    ax[0].imshow(orig_img)\n",
        "\n",
        "    # Plot the image and its explanation on the right\n",
        "    if label_to_see == 'top':\n",
        "        label_to_see = explanation.top_labels[0]\n",
        "    explanation.image = orig_img\n",
        "    temp, mask = explanation.get_image_and_mask(label_to_see, positive_only=False, num_features=10,\n",
        "                                                hide_rest=False)\n",
        "    ax[1].imshow(mark_boundaries(temp, mask))\n",
        "\n",
        "    # Display some information about the example\n",
        "    pred_class = np.argmax(probs)\n",
        "    fig.text(0.02, 0.8, \"Prediction probabilities: \" + str(['{:.2f}'.format(probs[i]) for i in range(len(probs))]),\n",
        "             fontsize=10)\n",
        "    fig.text(0.02, 0.82, \"Predicted Class: \" + str(pred_class) + ' (' + class_names[pred_class] + ')', fontsize=10)\n",
        "    if label is not None:\n",
        "        fig.text(0.02, 0.84, \"Ground Truth Class: \" + str(label) + ' (' + class_names[label] + ')', fontsize=10)\n",
        "    fig.suptitle(\"LIME Explanation for image \" + img_filename, fontsize=15)\n",
        "    fig.tight_layout()\n",
        "\n",
        "    # Save the image\n",
        "    filename = None\n",
        "    if dir_path is not None:\n",
        "        if not os.path.exists(dir_path):\n",
        "            os.makedirs(dir_path)\n",
        "        filename = dir_path + img_filename + '_exp_' + datetime.datetime.now().strftime(\"%Y%m%d-%H%M%S\") + '.png'\n",
        "        plt.savefig(filename)\n",
        "    return filename\n",
        "\n"
      ],
      "execution_count": null,
      "outputs": []
    },
    {
      "cell_type": "code",
      "metadata": {
        "id": "ZzaxH-fr-tBL",
        "colab_type": "code",
        "colab": {
          "base_uri": "https://localhost:8080/",
          "height": 773,
          "referenced_widgets": [
            "343700c90e0a42999c9ca356d59c8e66",
            "58ee8a0065e04bc6b376a4d1f2e9ce3c",
            "ba3e72b8bab1410d9c58aca8f691d509",
            "1d41c169fa254535876969550b04b947",
            "f28fc999816f4a25945b6b69fd70cecb",
            "71db94bae1cc4ca491d19d9991ad317d",
            "fe2b4e63bdc6417bba80d1232f0ae3e1",
            "447d2b604a074bfe8f0251274810897b"
          ]
        },
        "outputId": "e90152c8-533b-427e-b853-3ba349ef7139"
      },
      "source": [
        "from lime.lime_image import *\n",
        "from tensorflow.keras.models import load_model\n",
        "from tensorflow.keras.preprocessing.image import ImageDataGenerator\n",
        "from tqdm import tqdm\n",
        "from datetime import datetime\n",
        "from lime.wrappers.scikit_image import SegmentationAlgorithm\n",
        "from sklearn.metrics import confusion_matrix, roc_curve\n",
        "from skimage.segmentation import mark_boundaries\n",
        "def predict_and_explain(x, model, exp, num_features, num_samples):\n",
        "    '''\n",
        "    Use the model to predict a single example and apply LIME to generate an explanation.\n",
        "    :param x: Preprocessed image to predict\n",
        "    :param model: The trained neural network model\n",
        "    :param exp: A LimeImageExplainer object\n",
        "    :param num_features: # of features to use in explanation\n",
        "    :param num_samples: # of times to perturb the example to be explained\n",
        "    :return: The LIME explainer for the instance\n",
        "    '''\n",
        "\n",
        "    def predict(x):\n",
        "        '''\n",
        "        Helper function for LIME explainer. Runs model prediction on perturbations of the example.\n",
        "        :param x: List of perturbed examples from an example\n",
        "        :return: A numpy array constituting a list of class probabilities for each predicted perturbation\n",
        "        '''\n",
        "        probs = predict_instance(x, model)\n",
        "        return probs\n",
        "\n",
        "    # Algorithm for superpixel segmentation. Parameters set to limit size of superpixels and promote border smoothness\n",
        "    segmentation_fn = SegmentationAlgorithm('quickshift', kernel_size=2.25, max_dist=50, ratio=0.1, sigma=0.15)\n",
        "\n",
        "    # Generate explanation for the example\n",
        "    explanation = exp.explain_instance(x, predict, num_features=num_features, num_samples=num_samples, segmentation_fn=segmentation_fn)\n",
        "    probs = predict_instance(np.expand_dims(x, axis=0), model)\n",
        "    return explanation, probs\n",
        "\n",
        "\n",
        "def predict_instance(x, model):\n",
        "    '''\n",
        "    Runs model prediction on 1 or more input images.\n",
        "    :param x: Image(s) to predict\n",
        "    :param model: A Keras model\n",
        "    :return: A numpy array comprising a list of class probabilities for each prediction\n",
        "    '''\n",
        "    y = model.predict(x)  # Run prediction on the perturbations\n",
        "    if y.shape[1] == 1:\n",
        "        probs = np.concatenate([1.0 - y, y], axis=1)  # Compute class probabilities from the output of the model\n",
        "    else:\n",
        "        probs = y\n",
        "    return probs\n",
        "\n",
        "def setup_lime():\n",
        "    '''\n",
        "    Load relevant information and create a LIME Explainer\n",
        "    :return: dict containing important information and objects for explanation experiments\n",
        "    '''\n",
        "\n",
        "    # Load relevant constants from project config file\n",
        "    cfg = yaml.full_load(open(os.getcwd() + \"/config.yml\", 'r'))\n",
        "    lime_dict = {}\n",
        "    lime_dict['NUM_SAMPLES'] = cfg['LIME']['NUM_SAMPLES']\n",
        "    lime_dict['NUM_FEATURES'] = cfg['LIME']['NUM_FEATURES']\n",
        "    lime_dict['IMG_PATH'] = cfg['PATHS']['IMAGES']\n",
        "    lime_dict['IMG_DIM'] = cfg['DATA']['IMG_DIM']\n",
        "    lime_dict['PRED_THRESHOLD'] = cfg['PREDICTION']['THRESHOLD']\n",
        "    lime_dict['CLASSES'] = cfg['DATA']['CLASSES']\n",
        "    lime_dict['CLASS_MODE'] = cfg['TRAIN']['CLASS_MODE']\n",
        "    lime_dict['COVID_ONLY'] = cfg['LIME']['COVID_ONLY']\n",
        "    KERNEL_WIDTH = cfg['LIME']['KERNEL_WIDTH']\n",
        "    FEATURE_SELECTION = cfg['LIME']['FEATURE_SELECTION']\n",
        "\n",
        "    # Load train and test sets\n",
        "    lime_dict['TRAIN_SET'] = pd.read_csv(cfg['PATHS']['TRAIN_SET'])\n",
        "    lime_dict['TEST_SET'] = pd.read_csv(cfg['PATHS']['TEST_SET'])\n",
        "\n",
        "    # Create ImageDataGenerator for test set\n",
        "    test_img_gen = ImageDataGenerator(preprocessing_function=remove_text,\n",
        "                                       samplewise_std_normalization=True, samplewise_center=True)\n",
        "    test_generator = test_img_gen.flow_from_dataframe(dataframe=lime_dict['TEST_SET'], directory=None,\n",
        "        x_col=\"filename\", y_col='label_str', target_size=tuple(cfg['DATA']['IMG_DIM']), batch_size=1,\n",
        "        class_mode='categorical', shuffle=False)\n",
        "    lime_dict['TEST_GENERATOR'] = test_generator\n",
        "\n",
        "    # Define the LIME explainer\n",
        "    lime_dict['EXPLAINER'] = LimeImageExplainer(kernel_width=KERNEL_WIDTH, feature_selection=FEATURE_SELECTION,\n",
        "                                                verbose=True)\n",
        "    dill.dump(lime_dict['EXPLAINER'], open(cfg['PATHS']['LIME_EXPLAINER'], 'wb'))    # Serialize the explainer\n",
        "\n",
        "    # Load trained model's weights\n",
        "    #lime_dict['MODEL'] = load_model(cfg['PATHS']['MODEL_TO_LOAD'], compile=False)\n",
        "    lime_dict['MODEL']=model\n",
        "    test_predictions = lime_dict['MODEL'].predict_generator(test_generator, verbose=1,steps=len(test_generator))\n",
        "    return lime_dict\n",
        "\n",
        "\n",
        "def explain_xray(lime_dict, idx, save_exp=True):\n",
        "    '''\n",
        "    Make a prediction and provide a LIME explanation\n",
        "    :param lime_dict: dict containing important information and objects for explanation experiments\n",
        "    :param idx: index of image in test set to explain\n",
        "    :param save_exp: Boolean indicating whether to save the explanation visualization\n",
        "    '''\n",
        "\n",
        "    # Get i'th preprocessed image in test set\n",
        "    lime_dict['TEST_GENERATOR'].reset()\n",
        "    for i in range(idx + 1):\n",
        "        x, y = lime_dict['TEST_GENERATOR'].next()\n",
        "    x = np.squeeze(x, axis=0)\n",
        "\n",
        "    # Get the corresponding original image (no preprocessing)\n",
        "    orig_img = cv2.imread( lime_dict['TEST_SET']['filename'][idx])\n",
        "    new_dim = tuple(lime_dict['IMG_DIM'])\n",
        "    orig_img = cv2.resize(orig_img, new_dim, interpolation=cv2.INTER_NEAREST)     # Resize image\n",
        "\n",
        "    # Make a prediction for this image and retrieve a LIME explanation for the prediction\n",
        "    explanation, probs = predict_and_explain(x, lime_dict['MODEL'], lime_dict['EXPLAINER'],\n",
        "                                      lime_dict['NUM_FEATURES'], lime_dict['NUM_SAMPLES'])\n",
        "\n",
        "\n",
        "    # Get image filename and label\n",
        "    img_filename = lime_dict['TEST_SET']['filename'][idx]\n",
        "    label = lime_dict['TEST_SET']['label'][idx]\n",
        "\n",
        "    # Rearrange prediction probability vector to reflect original ordering of classes in project config\n",
        "    probs = [probs[0][lime_dict['CLASSES'].index(c)] for c in lime_dict['TEST_GENERATOR'].class_indices]\n",
        "\n",
        "    # Visualize the LIME explanation and optionally save it to disk\n",
        "    if save_exp:\n",
        "        file_path = lime_dict['IMG_PATH']\n",
        "    else:\n",
        "        file_path = None\n",
        "    if lime_dict['COVID_ONLY'] == True:\n",
        "        label_to_see = lime_dict['TEST_GENERATOR'].class_indices['COVID-19']\n",
        "    else:\n",
        "        label_to_see = 'top'\n",
        "    _ = visualize_explanation(orig_img, explanation, img_filename, label, probs, lime_dict['CLASSES'], label_to_see=label_to_see\n",
        "                          )\n",
        "    return\n",
        "\n",
        "\n",
        "lime_dict = setup_lime()\n",
        "i = 3                                                    # Select i'th image in test set\n",
        "explain_xray(lime_dict, i, save_exp=True)                   # Generate explanation for image"
      ],
      "execution_count": null,
      "outputs": [
        {
          "output_type": "stream",
          "text": [
            "Found 130 validated image filenames belonging to 2 classes.\n",
            "130/130 [==============================] - 6s 49ms/step\n"
          ],
          "name": "stdout"
        },
        {
          "output_type": "display_data",
          "data": {
            "application/vnd.jupyter.widget-view+json": {
              "model_id": "343700c90e0a42999c9ca356d59c8e66",
              "version_minor": 0,
              "version_major": 2
            },
            "text/plain": [
              "HBox(children=(IntProgress(value=0, max=4000), HTML(value='')))"
            ]
          },
          "metadata": {
            "tags": []
          }
        },
        {
          "output_type": "stream",
          "text": [
            "\n",
            "Intercept 1.6808046290170793\n",
            "Prediction_local [-0.77235834]\n",
            "Right: 0.00025741602\n",
            "Intercept -0.6808046317504142\n",
            "Prediction_local [1.77235834]\n",
            "Right: 0.99974257\n"
          ],
          "name": "stdout"
        },
        {
          "output_type": "display_data",
          "data": {
            "image/png": "[encoded data removed]",
            "text/plain": [
              "<Figure size 864x720 with 2 Axes>"
            ]
          },
          "metadata": {
            "tags": [],
            "needs_background": "light"
          }
        }
      ]
    },
    {
      "cell_type": "markdown",
      "metadata": {
        "id": "Zw-Kxtx-bN7L",
        "colab_type": "text"
      },
      "source": [
        "## **Shapely Exaplainer:**"
      ]
    },
    {
      "cell_type": "code",
      "metadata": {
        "id": "0NQEOG4YeJ6T",
        "colab_type": "code",
        "colab": {
          "base_uri": "https://localhost:8080/",
          "height": 360
        },
        "outputId": "c602304d-dc8a-4dd8-c840-508ffb67bdd1"
      },
      "source": [
        "!pip install shap"
      ],
      "execution_count": null,
      "outputs": [
        {
          "output_type": "stream",
          "text": [
            "Collecting shap\n",
            "\u001b[?25l  Downloading https://files.pythonhosted.org/packages/a8/77/b504e43e21a2ba543a1ac4696718beb500cfa708af2fb57cb54ce299045c/shap-0.35.0.tar.gz (273kB)\n",
            "\r\u001b[K     |█▏                              | 10kB 19.8MB/s eta 0:00:01\r\u001b[K     |██▍                             | 20kB 4.4MB/s eta 0:00:01\r\u001b[K     |███▋                            | 30kB 5.7MB/s eta 0:00:01\r\u001b[K     |████▉                           | 40kB 5.8MB/s eta 0:00:01\r\u001b[K     |██████                          | 51kB 4.9MB/s eta 0:00:01\r\u001b[K     |███████▏                        | 61kB 5.4MB/s eta 0:00:01\r\u001b[K     |████████▍                       | 71kB 5.9MB/s eta 0:00:01\r\u001b[K     |█████████▋                      | 81kB 6.3MB/s eta 0:00:01\r\u001b[K     |██████████▉                     | 92kB 6.3MB/s eta 0:00:01\r\u001b[K     |████████████                    | 102kB 6.1MB/s eta 0:00:01\r\u001b[K     |█████████████▏                  | 112kB 6.1MB/s eta 0:00:01\r\u001b[K     |██████████████▍                 | 122kB 6.1MB/s eta 0:00:01\r\u001b[K     |███████████████▋                | 133kB 6.1MB/s eta 0:00:01\r\u001b[K     |████████████████▉               | 143kB 6.1MB/s eta 0:00:01\r\u001b[K     |██████████████████              | 153kB 6.1MB/s eta 0:00:01\r\u001b[K     |███████████████████▏            | 163kB 6.1MB/s eta 0:00:01\r\u001b[K     |████████████████████▍           | 174kB 6.1MB/s eta 0:00:01\r\u001b[K     |█████████████████████▋          | 184kB 6.1MB/s eta 0:00:01\r\u001b[K     |██████████████████████▉         | 194kB 6.1MB/s eta 0:00:01\r\u001b[K     |████████████████████████        | 204kB 6.1MB/s eta 0:00:01\r\u001b[K     |█████████████████████████▏      | 215kB 6.1MB/s eta 0:00:01\r\u001b[K     |██████████████████████████▍     | 225kB 6.1MB/s eta 0:00:01\r\u001b[K     |███████████████████████████▋    | 235kB 6.1MB/s eta 0:00:01\r\u001b[K     |████████████████████████████▉   | 245kB 6.1MB/s eta 0:00:01\r\u001b[K     |██████████████████████████████  | 256kB 6.1MB/s eta 0:00:01\r\u001b[K     |███████████████████████████████▏| 266kB 6.1MB/s eta 0:00:01\r\u001b[K     |████████████████████████████████| 276kB 6.1MB/s \n",
            "\u001b[?25hRequirement already satisfied: numpy in /usr/local/lib/python3.6/dist-packages (from shap) (1.18.2)\n",
            "Requirement already satisfied: scipy in /usr/local/lib/python3.6/dist-packages (from shap) (1.4.1)\n",
            "Requirement already satisfied: scikit-learn in /usr/local/lib/python3.6/dist-packages (from shap) (0.22.2.post1)\n",
            "Requirement already satisfied: pandas in /usr/local/lib/python3.6/dist-packages (from shap) (1.0.3)\n",
            "Requirement already satisfied: tqdm>4.25.0 in /usr/local/lib/python3.6/dist-packages (from shap) (4.38.0)\n",
            "Requirement already satisfied: joblib>=0.11 in /usr/local/lib/python3.6/dist-packages (from scikit-learn->shap) (0.14.1)\n",
            "Requirement already satisfied: python-dateutil>=2.6.1 in /usr/local/lib/python3.6/dist-packages (from pandas->shap) (2.8.1)\n",
            "Requirement already satisfied: pytz>=2017.2 in /usr/local/lib/python3.6/dist-packages (from pandas->shap) (2018.9)\n",
            "Requirement already satisfied: six>=1.5 in /usr/local/lib/python3.6/dist-packages (from python-dateutil>=2.6.1->pandas->shap) (1.12.0)\n",
            "Building wheels for collected packages: shap\n",
            "  Building wheel for shap (setup.py) ... \u001b[?25l\u001b[?25hdone\n",
            "  Created wheel for shap: filename=shap-0.35.0-cp36-cp36m-linux_x86_64.whl size=394138 sha256=aa448dfbe5229d45168dba8255c0b000fc178424b28e92d5ba052f67c18075cf\n",
            "  Stored in directory: /root/.cache/pip/wheels/e7/f7/0f/b57055080cf8894906b3bd3616d2fc2bfd0b12d5161bcb24ac\n",
            "Successfully built shap\n",
            "Installing collected packages: shap\n",
            "Successfully installed shap-0.35.0\n"
          ],
          "name": "stdout"
        }
      ]
    },
    {
      "cell_type": "code",
      "metadata": {
        "id": "pIJIjUcubPmz",
        "colab_type": "code",
        "colab": {
          "base_uri": "https://localhost:8080/",
          "height": 34
        },
        "outputId": "e2808a70-3d60-495a-de09-29db1f504093"
      },
      "source": [
        "from keras.applications.vgg16 import preprocess_input\n",
        "import keras.backend as K\n",
        "import numpy as np\n",
        "import json\n",
        "import shap\n",
        "import glob\n",
        "import matplotlib.pyplot as plt\n",
        "\n",
        "\n",
        "samples=len(data['TRAIN'])\n",
        "X=np.full((samples,224,224,3), 0)\n",
        "y=np.full((samples), 0)\n",
        "new_dim=tuple(lime_dict['IMG_DIM'])\n",
        "for i in range(samples):\n",
        "  cv_img = []\n",
        "  path= glob.glob(data['TRAIN'].values[i][0])\n",
        "  path=path[0]\n",
        "  img = cv2.imread(path)\n",
        "  orig_img = cv2.resize(img, new_dim, interpolation=cv2.INTER_NEAREST)     # Resize image\n",
        "  X[i]=orig_img\n",
        "  y[i]= data['TRAIN'].values[i][1]# Get the corresponding original image (no preprocessing)\n",
        "\n",
        "to_explain = X[[1]]\n",
        "model=load_model(cfg['PATHS']['MODEL_TO_LOAD'], compile=False)\n",
        "# explain how the input to the 7th layer of the model explains the top two classes\n",
        "def map2layer(x, layer):\n",
        "    feed_dict = dict(zip([model.layers[0].input], [preprocess_input(x.copy())]))\n",
        "    return K.get_session().run(model.layers[layer].input, feed_dict)\n",
        "\n",
        "\n",
        "e = shap.GradientExplainer(model, X, session=None, local_smoothing=0)\n",
        "# get the names for the classes\n",
        "#index_names = np.vectorize(lambda x: class_names[str(x)][1])(indexes)\n",
        "\n",
        "\n"
      ],
      "execution_count": null,
      "outputs": [
        {
          "output_type": "stream",
          "text": [
            "Using TensorFlow backend.\n"
          ],
          "name": "stderr"
        }
      ]
    },
    {
      "cell_type": "code",
      "metadata": {
        "id": "j0iP5T4WlRf3",
        "colab_type": "code",
        "colab": {
          "base_uri": "https://localhost:8080/",
          "height": 307
        },
        "outputId": "9dc32cce-b252-4f6e-f39f-c5ac9684b738"
      },
      "source": [
        "shap_values,indexes = e.shap_values(map2layer(to_explain, 2), ranked_outputs=2)\n"
      ],
      "execution_count": null,
      "outputs": [
        {
          "output_type": "error",
          "ename": "TypeError",
          "evalue": "ignored",
          "traceback": [
            "\u001b[0;31m---------------------------------------------------------------------------\u001b[0m",
            "\u001b[0;31mTypeError\u001b[0m                                 Traceback (most recent call last)",
            "\u001b[0;32m<ipython-input-60-c48b65b6c232>\u001b[0m in \u001b[0;36m<module>\u001b[0;34m()\u001b[0m\n\u001b[0;32m----> 1\u001b[0;31m \u001b[0mshap_values\u001b[0m\u001b[0;34m,\u001b[0m\u001b[0mindexes\u001b[0m \u001b[0;34m=\u001b[0m \u001b[0me\u001b[0m\u001b[0;34m.\u001b[0m\u001b[0mshap_values\u001b[0m\u001b[0;34m(\u001b[0m\u001b[0mmap2layer\u001b[0m\u001b[0;34m(\u001b[0m\u001b[0mto_explain\u001b[0m\u001b[0;34m,\u001b[0m \u001b[0;36m2\u001b[0m\u001b[0;34m)\u001b[0m\u001b[0;34m,\u001b[0m \u001b[0mranked_outputs\u001b[0m\u001b[0;34m=\u001b[0m\u001b[0;36m2\u001b[0m\u001b[0;34m)\u001b[0m\u001b[0;34m\u001b[0m\u001b[0;34m\u001b[0m\u001b[0m\n\u001b[0m",
            "\u001b[0;32m<ipython-input-59-cf823136db4d>\u001b[0m in \u001b[0;36mmap2layer\u001b[0;34m(x, layer)\u001b[0m\n\u001b[1;32m     25\u001b[0m \u001b[0;31m# explain how the input to the 7th layer of the model explains the top two classes\u001b[0m\u001b[0;34m\u001b[0m\u001b[0;34m\u001b[0m\u001b[0;34m\u001b[0m\u001b[0m\n\u001b[1;32m     26\u001b[0m \u001b[0;32mdef\u001b[0m \u001b[0mmap2layer\u001b[0m\u001b[0;34m(\u001b[0m\u001b[0mx\u001b[0m\u001b[0;34m,\u001b[0m \u001b[0mlayer\u001b[0m\u001b[0;34m)\u001b[0m\u001b[0;34m:\u001b[0m\u001b[0;34m\u001b[0m\u001b[0;34m\u001b[0m\u001b[0m\n\u001b[0;32m---> 27\u001b[0;31m     \u001b[0mfeed_dict\u001b[0m \u001b[0;34m=\u001b[0m \u001b[0mdict\u001b[0m\u001b[0;34m(\u001b[0m\u001b[0mzip\u001b[0m\u001b[0;34m(\u001b[0m\u001b[0;34m[\u001b[0m\u001b[0mmodel\u001b[0m\u001b[0;34m.\u001b[0m\u001b[0mlayers\u001b[0m\u001b[0;34m[\u001b[0m\u001b[0;36m0\u001b[0m\u001b[0;34m]\u001b[0m\u001b[0;34m.\u001b[0m\u001b[0minput\u001b[0m\u001b[0;34m]\u001b[0m\u001b[0;34m,\u001b[0m \u001b[0;34m[\u001b[0m\u001b[0mpreprocess_input\u001b[0m\u001b[0;34m(\u001b[0m\u001b[0mx\u001b[0m\u001b[0;34m.\u001b[0m\u001b[0mcopy\u001b[0m\u001b[0;34m(\u001b[0m\u001b[0;34m)\u001b[0m\u001b[0;34m)\u001b[0m\u001b[0;34m]\u001b[0m\u001b[0;34m)\u001b[0m\u001b[0;34m)\u001b[0m\u001b[0;34m\u001b[0m\u001b[0;34m\u001b[0m\u001b[0m\n\u001b[0m\u001b[1;32m     28\u001b[0m     \u001b[0;32mreturn\u001b[0m \u001b[0mK\u001b[0m\u001b[0;34m.\u001b[0m\u001b[0mget_session\u001b[0m\u001b[0;34m(\u001b[0m\u001b[0;34m)\u001b[0m\u001b[0;34m.\u001b[0m\u001b[0mrun\u001b[0m\u001b[0;34m(\u001b[0m\u001b[0mmodel\u001b[0m\u001b[0;34m.\u001b[0m\u001b[0mlayers\u001b[0m\u001b[0;34m[\u001b[0m\u001b[0mlayer\u001b[0m\u001b[0;34m]\u001b[0m\u001b[0;34m.\u001b[0m\u001b[0minput\u001b[0m\u001b[0;34m,\u001b[0m \u001b[0mfeed_dict\u001b[0m\u001b[0;34m)\u001b[0m\u001b[0;34m\u001b[0m\u001b[0;34m\u001b[0m\u001b[0m\n\u001b[1;32m     29\u001b[0m \u001b[0;34m\u001b[0m\u001b[0m\n",
            "\u001b[0;32m/usr/local/lib/python3.6/dist-packages/tensorflow/python/framework/ops.py\u001b[0m in \u001b[0;36m__hash__\u001b[0;34m(self)\u001b[0m\n\u001b[1;32m    724\u001b[0m     if (Tensor._USE_EQUALITY and executing_eagerly_outside_functions() and\n\u001b[1;32m    725\u001b[0m         (g is None or g.building_function)):\n\u001b[0;32m--> 726\u001b[0;31m       raise TypeError(\"Tensor is unhashable. \"\n\u001b[0m\u001b[1;32m    727\u001b[0m                       \"Instead, use tensor.ref() as the key.\")\n\u001b[1;32m    728\u001b[0m     \u001b[0;32melse\u001b[0m\u001b[0;34m:\u001b[0m\u001b[0;34m\u001b[0m\u001b[0;34m\u001b[0m\u001b[0m\n",
            "\u001b[0;31mTypeError\u001b[0m: Tensor is unhashable. Instead, use tensor.ref() as the key."
          ]
        }
      ]
    },
    {
      "cell_type": "markdown",
      "metadata": {
        "id": "ofu9pp8GUnlK",
        "colab_type": "text"
      },
      "source": [
        "# **5. Explaining SHAP issue with Tensorflow**"
      ]
    },
    {
      "cell_type": "markdown",
      "metadata": {
        "id": "GhDBq72CuyE4",
        "colab_type": "text"
      },
      "source": [
        "It can be seen that there is an integration problem between shap algorithm and tensorflow. I have tried to downgrade TF and Keras versions but this didn't resolve the compatibility issue as I belive the ResNet Model is built with the newer versions of TF. Thus, it is not possible to solve this integration problem at the moment as SHAP needs an older version of TF while at the same time our model needs the newer version.\n",
        "\n",
        "\n",
        "There are two SHAP algorithms which can be used for exaplaining deep learning models: \n",
        "\n",
        "1. The first is DeepExplainer \n",
        "\n",
        "2. The second is GradientExplainer. \n",
        "\n",
        "I tried both of them and both are not working too due to the same compatability issue.\n",
        "\n",
        "To confirm this issue, I ran the example on the README in the github of SHAP that are related to explaining CNN models. The first example used DeepExplainer with MNIST dataset and the second example used GradientExplainer with VGG16 network. Both of the reday examples didn't run and gave the same error that can be seen above.\n"
      ]
    },
    {
      "cell_type": "markdown",
      "metadata": {
        "id": "hHJn81pGU1BR",
        "colab_type": "text"
      },
      "source": [
        "# **6. Two page report on Shapley:**"
      ]
    },
    {
      "cell_type": "markdown",
      "metadata": {
        "id": "R3S0SMVdU-VG",
        "colab_type": "text"
      },
      "source": [
        "Below you can find a hyperlink for a google doc I wrote on Shapley algorithm. This is the second task in Project 5.\n",
        "https://drive.google.com/file/d/1g6f4aeN9T8FSRSMmUqC38m5lOYcHavXE/view?usp=sharing\n"
      ]
    }
  ]
}